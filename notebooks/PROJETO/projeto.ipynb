{
 "cells": [
  {
   "cell_type": "markdown",
   "metadata": {},
   "source": [
    "# Projeto Final\n",
    "\n",
    "Este é o projeto final da disciplina Aprendizado de Máquina (IA006-C), ministrado pelos professores Levy Boccato e Romis, na Unicamp no 2S2019.\n",
    "\n",
    "## Projeto\n",
    "\n",
    "A ideia do projeto é permitir a clusterização de conteúdo textual, para que a partir deste seja criado um chatbot.\n",
    "\n",
    "Os textos passarão pro um processo de clusterização (e aqui serão apresentados duas técnicas para gerar o espaço vetorial de documentos [TF-IDF e Doc2Vec]) usando o algoritmo KMeans e usando duas métricas para cálculo das distâncias dos documentos no espaço vetorial desejado.\n",
    " \n",
    "Posterior a isso, textos que não forem similares (ou proximamente similares aos já \"classificados\") serão considerados como anomalias e por conseguintes novos clusters poderão ser gerados futuramente."
   ]
  },
  {
   "cell_type": "code",
   "execution_count": 1,
   "metadata": {},
   "outputs": [],
   "source": [
    "import re\n",
    "from unicodedata import normalize\n",
    "from string import punctuation\n",
    "import warnings\n",
    "from concurrent.futures import ProcessPoolExecutor\n",
    "from multiprocessing import cpu_count\n",
    "from functools import partial\n",
    "import numpy as np\n",
    "import pandas as pd\n",
    "import matplotlib.pyplot as plt\n",
    "from mpl_toolkits.mplot3d import Axes3D\n",
    "import seaborn as sns\n",
    "import spacy\n",
    "import nltk\n",
    "from nltk.cluster import KMeansClusterer\n",
    "from nltk.corpus import stopwords\n",
    "from nltk.cluster.util import cosine_distance\n",
    "from sklearn import utils\n",
    "from sklearn.model_selection import train_test_split\n",
    "from sklearn.metrics import homogeneity_score, completeness_score, silhouette_score, davies_bouldin_score\n",
    "from sklearn.metrics.pairwise import cosine_similarity\n",
    "from sklearn.feature_extraction.text import TfidfVectorizer, CountVectorizer\n",
    "from sklearn.manifold import MDS, TSNE, LocallyLinearEmbedding\n",
    "from sklearn.decomposition import NMF\n",
    "from sklearn.cluster import DBSCAN, OPTICS, KMeans\n",
    "from pyclustering.cluster.xmeans import xmeans, kmeans\n",
    "from pyclustering.cluster.center_initializer import kmeans_plusplus_initializer\n",
    "from pyclustering.cluster.elbow import elbow\n",
    "from pyclustering.cluster.silhouette import silhouette_ksearch_type, silhouette_ksearch\n",
    "from gensim.models.doc2vec import Doc2Vec, TaggedDocument\n",
    "from IPython.display import HTML\n",
    "\n",
    "pd.set_option('display.max_columns', None)  \n",
    "pd.set_option('display.expand_frame_repr', False)\n",
    "pd.set_option('max_colwidth', -1)\n",
    "\n",
    "warnings.filterwarnings('ignore')\n",
    "np.random.seed(123456)\n",
    "\n",
    "%matplotlib inline"
   ]
  },
  {
   "cell_type": "code",
   "execution_count": 2,
   "metadata": {},
   "outputs": [],
   "source": [
    "def remover_acentos(txt):\n",
    "    return normalize('NFKD', txt).encode('ASCII', 'ignore').decode('ASCII')\n",
    "\n",
    "def is_number(s):\n",
    "    try:\n",
    "        complex(s) # for int, long, float and complex\n",
    "    except ValueError:\n",
    "        return False\n",
    "    return True\n",
    "\n",
    "def tokenizer(phrase):\n",
    "    phrase = phrase.lower()\n",
    "    for o, r in RM:\n",
    "        phrase = re.sub(o, r, phrase, flags=re.MULTILINE)\n",
    "    phrase = re.sub(r'[\"\\'@#%\\(\\)]', \" \", phrase)\n",
    "    phrase = NLP(re.sub(r'[-+=:]', \"\", phrase), disable=[\"parser\"])\n",
    "    clean_frase = []\n",
    "    for palavra in phrase:\n",
    "        if palavra.pos_ != \"PUNCT\":\n",
    "            word = palavra.text.strip()\n",
    "            if not is_number(word) and word not in STOPWORDS and len(word) > 1:\n",
    "                # clean_frase += [STEMMER.stem(remover_acentos(palavra.lemma_))]\n",
    "                clean_frase += [remover_acentos(palavra.lemma_)]\n",
    "    return clean_frase\n",
    "\n",
    "def _get_stopwords():\n",
    "    stpwords = stopwords.words('portuguese') + list(punctuation)\n",
    "    rms = [\"um\", \"uma\", \"não\", \"mais\", \"muito\"]\n",
    "    for rm in rms:\n",
    "        del stpwords[stpwords.index(rm)]\n",
    "    return stpwords\n",
    "\n",
    "NLP = spacy.load(\"pt\")\n",
    "# STEMMER = nltk.stem.RSLPStemmer()\n",
    "STEMMER = nltk.stem.SnowballStemmer('portuguese')\n",
    "STOPWORDS = _get_stopwords()\n",
    "RM = [\n",
    "    ('\\n', '. '), ('\"', ''), ('@', ''),\n",
    "    ('#', ''), ('RT', ''), (r'(http[s]*?:\\/\\/)+.*[\\r\\n]*', '')\n",
    "]\n",
    "\n",
    "colors = np.asarray([\n",
    "    (230, 25, 75), (60, 180, 75), (255, 225, 25), (0, 130, 200), (245, 130, 48), (145, 30, 180), (70, 240, 240),\n",
    "    (240, 50, 230), (210, 245, 60), (250, 190, 190), (0, 128, 128), (230, 190, 255), (170, 110, 40), (255, 250, 200),\n",
    "    (128, 0, 0), (170, 255, 195), (128, 128, 0), (255, 215, 180), (0, 0, 128), (128, 128, 128), (0, 0, 0),\n",
    "    (141, 204, 226), (212, 50, 147), (251, 226, 93), (16, 185, 176), (189, 182, 163), (244, 172, 18), (100, 28, 112),\n",
    "    (165, 124, 92), (183, 160, 211), (66, 47, 105), (240, 67, 7) # , (244, 188, 198)\n",
    "]).astype(np.float32)\n",
    "\n",
    "colors /= 255.0"
   ]
  },
  {
   "cell_type": "markdown",
   "metadata": {},
   "source": [
    "### Carregamento dos datasets\n",
    "\n",
    "Os datasets de exemplos são frases já pré-categorizadas usadas em chatbots.\n",
    "\n",
    "Contém 32 categorias e ao todo 690 documentos ou frases."
   ]
  },
  {
   "cell_type": "code",
   "execution_count": 3,
   "metadata": {},
   "outputs": [
    {
     "data": {
      "text/html": [
       "<table border=\"1\" class=\"dataframe\">\n",
       "  <thead>\n",
       "    <tr style=\"text-align: right;\">\n",
       "      <th>perguntas</th>\n",
       "      <th>cluster</th>\n",
       "    </tr>\n",
       "  </thead>\n",
       "  <tbody>\n",
       "    <tr>\n",
       "      <td>Como posso registrar um cartão SIM?</td>\n",
       "      <td>ACTIVATE_DEVICE</td>\n",
       "    </tr>\n",
       "    <tr>\n",
       "      <td>Por favor adicione o roaming internacional na minha conta.</td>\n",
       "      <td>ACTIVATE_ROAMING</td>\n",
       "    </tr>\n",
       "    <tr>\n",
       "      <td>Fui assaltado, preciso acionar seguro.</td>\n",
       "      <td>ADD_INSURANCE</td>\n",
       "    </tr>\n",
       "    <tr>\n",
       "      <td>Oi, eu estava esperando que você pudesse me dizer como adicionar o recurso de mensagens de texto ao meu plano?</td>\n",
       "      <td>ADD_SERVICE_FEATURES</td>\n",
       "    </tr>\n",
       "    <tr>\n",
       "      <td>Como cancelo meu serviço de telefone pré-pago?</td>\n",
       "      <td>DEACTIVATE_PREPAID_PLAN</td>\n",
       "    </tr>\n",
       "    <tr>\n",
       "      <td>Você pode verificar se posso fazer um upgrade?</td>\n",
       "      <td>DEVICE_UPGRADE_ELIGIBILITY</td>\n",
       "    </tr>\n",
       "    <tr>\n",
       "      <td>quero mudar minha password como devo proceder?</td>\n",
       "      <td>PASSWORD</td>\n",
       "    </tr>\n",
       "    <tr>\n",
       "      <td>Minha Senha está com problema</td>\n",
       "      <td>PASSWORD</td>\n",
       "    </tr>\n",
       "    <tr>\n",
       "      <td>Minha senha não funciona</td>\n",
       "      <td>PASSWORD</td>\n",
       "    </tr>\n",
       "    <tr>\n",
       "      <td>Como faço para transferir o serviço de um dispositivo antigo para um novo?</td>\n",
       "      <td>SWAP_DEVICE</td>\n",
       "    </tr>\n",
       "  </tbody>\n",
       "</table>"
      ],
      "text/plain": [
       "<IPython.core.display.HTML object>"
      ]
     },
     "metadata": {},
     "output_type": "display_data"
    }
   ],
   "source": [
    "df_data1 = pd.read_csv(\"intents.csv\", sep=';', names=[\"cluster\", \"perguntas\"])\n",
    "df_data2 = pd.read_csv(\"ground_truth.csv\", sep=';', names=[\"perguntas\", \"cluster\"])\n",
    "\n",
    "df_data1 = df_data1[df_data1.columns[::-1]]\n",
    "df_data = pd.concat([df_data1, df_data2], sort=False)\n",
    "df_data.dropna(inplace=True)\n",
    "df_data['cluster'] = df_data['cluster'].str.upper()\n",
    "\n",
    "T = df_data.to_numpy()\n",
    "index = np.random.choice(T.shape[0], 10, replace=False)\n",
    "display(HTML(df_data.iloc[index].sort_values(by=[\"cluster\"]).to_html(index=False)))\n",
    "\n",
    "c = np.argmax(pd.get_dummies(df_data[\"cluster\"]).to_numpy(), axis=1)\n",
    "\n",
    "N = df_data[\"cluster\"].to_numpy().shape[0]\n",
    "clusters = len(set(c))"
   ]
  },
  {
   "cell_type": "code",
   "execution_count": 4,
   "metadata": {},
   "outputs": [
    {
     "name": "stdout",
     "output_type": "stream",
     "text": [
      "Qtde. de documentos por categoria:\n"
     ]
    },
    {
     "data": {
      "text/html": [
       "<table border=\"1\" class=\"dataframe\">\n",
       "  <thead>\n",
       "    <tr style=\"text-align: right;\">\n",
       "      <th>Categoria</th>\n",
       "      <th>Qtde</th>\n",
       "    </tr>\n",
       "  </thead>\n",
       "  <tbody>\n",
       "    <tr>\n",
       "      <td>ACCOUNT</td>\n",
       "      <td>29</td>\n",
       "    </tr>\n",
       "    <tr>\n",
       "      <td>ACTIVATE_DEVICE</td>\n",
       "      <td>19</td>\n",
       "    </tr>\n",
       "    <tr>\n",
       "      <td>ACTIVATE_PREPAID_PLAN</td>\n",
       "      <td>21</td>\n",
       "    </tr>\n",
       "    <tr>\n",
       "      <td>ACTIVATE_ROAMING</td>\n",
       "      <td>20</td>\n",
       "    </tr>\n",
       "    <tr>\n",
       "      <td>ADD_INSURANCE</td>\n",
       "      <td>18</td>\n",
       "    </tr>\n",
       "    <tr>\n",
       "      <td>ADD_SERVICE_FEATURES</td>\n",
       "      <td>20</td>\n",
       "    </tr>\n",
       "    <tr>\n",
       "      <td>BOT_FOUND</td>\n",
       "      <td>20</td>\n",
       "    </tr>\n",
       "    <tr>\n",
       "      <td>BOT_NAME</td>\n",
       "      <td>16</td>\n",
       "    </tr>\n",
       "    <tr>\n",
       "      <td>CERTIFICATE</td>\n",
       "      <td>18</td>\n",
       "    </tr>\n",
       "    <tr>\n",
       "      <td>CHANGE_PRICE_PLAN</td>\n",
       "      <td>19</td>\n",
       "    </tr>\n",
       "    <tr>\n",
       "      <td>COVERAGE_AREA_INQUIRY</td>\n",
       "      <td>19</td>\n",
       "    </tr>\n",
       "    <tr>\n",
       "      <td>DEACTIVATE_PREPAID_PLAN</td>\n",
       "      <td>18</td>\n",
       "    </tr>\n",
       "    <tr>\n",
       "      <td>DEACTIVATE_ROAMING</td>\n",
       "      <td>18</td>\n",
       "    </tr>\n",
       "    <tr>\n",
       "      <td>DEVICE_UPGRADE_ELIGIBILITY</td>\n",
       "      <td>24</td>\n",
       "    </tr>\n",
       "    <tr>\n",
       "      <td>EMAIL</td>\n",
       "      <td>40</td>\n",
       "    </tr>\n",
       "    <tr>\n",
       "      <td>INTERNATIONAL_RATE_PLAN_INQUIRY</td>\n",
       "      <td>21</td>\n",
       "    </tr>\n",
       "    <tr>\n",
       "      <td>NETWORK_COMPLAINTS</td>\n",
       "      <td>23</td>\n",
       "    </tr>\n",
       "    <tr>\n",
       "      <td>NETWORK_UNLOCK</td>\n",
       "      <td>21</td>\n",
       "    </tr>\n",
       "    <tr>\n",
       "      <td>NO_OPTION</td>\n",
       "      <td>18</td>\n",
       "    </tr>\n",
       "    <tr>\n",
       "      <td>PASSWORD</td>\n",
       "      <td>27</td>\n",
       "    </tr>\n",
       "    <tr>\n",
       "      <td>PORT_IN</td>\n",
       "      <td>21</td>\n",
       "    </tr>\n",
       "    <tr>\n",
       "      <td>PRICE_PLAN_INQUIRY</td>\n",
       "      <td>23</td>\n",
       "    </tr>\n",
       "    <tr>\n",
       "      <td>RECHARGE_SIM</td>\n",
       "      <td>18</td>\n",
       "    </tr>\n",
       "    <tr>\n",
       "      <td>REMOTE_ACCESS</td>\n",
       "      <td>20</td>\n",
       "    </tr>\n",
       "    <tr>\n",
       "      <td>REMOVE_SERVICE_FEATURES</td>\n",
       "      <td>20</td>\n",
       "    </tr>\n",
       "    <tr>\n",
       "      <td>RETURN_DEVICE</td>\n",
       "      <td>21</td>\n",
       "    </tr>\n",
       "    <tr>\n",
       "      <td>ROAMING_INQUIRY</td>\n",
       "      <td>20</td>\n",
       "    </tr>\n",
       "    <tr>\n",
       "      <td>SERVICES</td>\n",
       "      <td>20</td>\n",
       "    </tr>\n",
       "    <tr>\n",
       "      <td>SWAP_DEVICE</td>\n",
       "      <td>15</td>\n",
       "    </tr>\n",
       "    <tr>\n",
       "      <td>THANK_YOU</td>\n",
       "      <td>23</td>\n",
       "    </tr>\n",
       "    <tr>\n",
       "      <td>TROUBLESHOOTING</td>\n",
       "      <td>36</td>\n",
       "    </tr>\n",
       "    <tr>\n",
       "      <td>WIFI</td>\n",
       "      <td>24</td>\n",
       "    </tr>\n",
       "  </tbody>\n",
       "</table>"
      ],
      "text/plain": [
       "<IPython.core.display.HTML object>"
      ]
     },
     "metadata": {},
     "output_type": "display_data"
    }
   ],
   "source": [
    "uniq, cnt = np.unique(np.asarray(df_data[\"cluster\"]), return_counts=True)\n",
    "df_org = pd.DataFrame(np.array(list(zip(uniq, cnt))), columns=[\"Categoria\", \"Qtde\"])\n",
    "\n",
    "print(\"Qtde. de documentos por categoria:\")\n",
    "display(HTML(df_org.sort_values(by=[\"Categoria\"]).to_html(index=False)))"
   ]
  },
  {
   "cell_type": "code",
   "execution_count": 5,
   "metadata": {},
   "outputs": [
    {
     "name": "stdout",
     "output_type": "stream",
     "text": [
      "Total docs     : 690\n",
      "Total cluster  : 690\n",
      "X_train size   : (552,)\n",
      "X_test  size   : (138,)\n"
     ]
    }
   ],
   "source": [
    "X_train, X_test, y_train, y_test = train_test_split(df_data[\"perguntas\"], c, test_size=0.2)\n",
    "\n",
    "qtde_docs = len(df_data[\"perguntas\"])\n",
    "qtde_categ = len(df_data[\"cluster\"])\n",
    "print(f\"Total docs     : {qtde_docs}\")\n",
    "print(f\"Total cluster  : {qtde_categ}\")\n",
    "print(f\"X_train size   : {X_train.shape}\")\n",
    "print(f\"X_test  size   : {X_test.shape}\")"
   ]
  },
  {
   "cell_type": "markdown",
   "metadata": {},
   "source": [
    "### Dataset tokenization"
   ]
  },
  {
   "cell_type": "code",
   "execution_count": 6,
   "metadata": {},
   "outputs": [
    {
     "name": "stdout",
     "output_type": "stream",
     "text": [
      "Tokenization...\n",
      "Qtd documentos treino:  552\n",
      "Qtd Intents treino   :  32\n",
      "Finished...\n"
     ]
    }
   ],
   "source": [
    "P = X_train.shape[0]\n",
    "print(\"Tokenization...\")\n",
    "documents_d2c = [TaggedDocument(tokenizer(doc), [i]) for i, doc in enumerate(X_train)]\n",
    "print(\"Qtd documentos treino: \", len(documents_d2c))\n",
    "print(\"Qtd Intents treino   : \", len(np.unique(df_data[\"cluster\"].to_numpy())))\n",
    "print(\"Finished...\")"
   ]
  },
  {
   "cell_type": "code",
   "execution_count": 7,
   "metadata": {},
   "outputs": [
    {
     "data": {
      "text/plain": [
       "[TaggedDocument(words=['ir', 'estar', 'viajar', 'certar', 'empresar', 'fornecer', 'cobertura', 'telefonar', 'area', 'viagem', 'poder', 'dar', 'informacaes', 'sobrar', 'onde', 'servico', 'recepcao', 'estar', 'disponivel'], tags=[0]),\n",
       " TaggedDocument(words=['qual', 'outro', 'servico', 'bot', 'oferecer'], tags=[1]),\n",
       " TaggedDocument(words=['um', 'nome'], tags=[2]),\n",
       " TaggedDocument(words=['nao', 'poder', 'recarregar', 'porque', 'dizer', 'sim', 'desativado', 'sim', 'poder', 'ser', 'ativado'], tags=[3]),\n",
       " TaggedDocument(words=['poder', 'ajudar', 'mudar', 'tocar', 'telefonar'], tags=[4]),\n",
       " TaggedDocument(words=['configurar', 'email', 'thunderbird'], tags=[5]),\n",
       " TaggedDocument(words=['nao', 'precisar', 'mais', 'nado', 'obrigar'], tags=[6]),\n",
       " TaggedDocument(words=['nao', 'conseguir', 'acessar', 'web', 'telefonar', 'nao', 'certeza', 'precisar', 'algum', 'configuracao'], tags=[7]),\n",
       " TaggedDocument(words=['poder', 'ter', 'correar', 'voz', 'permanentemente', 'remover', 'planar'], tags=[8]),\n",
       " TaggedDocument(words=['tutorial', 'configuracao', 'redar', 'fiar', 'android'], tags=[9])]"
      ]
     },
     "execution_count": 7,
     "metadata": {},
     "output_type": "execute_result"
    }
   ],
   "source": [
    "documents_d2c[:10]"
   ]
  },
  {
   "cell_type": "markdown",
   "metadata": {},
   "source": [
    "### **Doc2Vec**\n",
    "\n",
    "Parâmetros iniciais... quantidade de dimensões dos vetores gerados para cada frase, épocas de treinamento e épocas de posterior inferência para novas frases.\n",
    "\n",
    "A quantidade de épocas de inferência, sugere-se ser bem superior as de treinamento."
   ]
  },
  {
   "cell_type": "code",
   "execution_count": 8,
   "metadata": {},
   "outputs": [
    {
     "name": "stdout",
     "output_type": "stream",
     "text": [
      "Dimensions   : 1000\n",
      "Epochs       : 200\n",
      "Infer Epochs : 15000\n"
     ]
    }
   ],
   "source": [
    "dim = 1000\n",
    "epochs = 200\n",
    "M = 15000\n",
    "\n",
    "print(f\"Dimensions   : {dim}\")\n",
    "print(f\"Epochs       : {epochs}\")\n",
    "print(f\"Infer Epochs : {M}\")"
   ]
  },
  {
   "cell_type": "code",
   "execution_count": 9,
   "metadata": {},
   "outputs": [
    {
     "name": "stdout",
     "output_type": "stream",
     "text": [
      "Starting model...\n",
      "Building vocab...\n",
      "Training...\n",
      "Finish...\n"
     ]
    }
   ],
   "source": [
    "print(\"Starting model...\")\n",
    "common_kwargs = dict(\n",
    "    dm=0, vector_size=dim, epochs=epochs, workers=cpu_count(), \n",
    "    window=10, min_count=2, alpha=1e-2, min_alpha=1e-4,\n",
    "    hs=1, negative=7, dbow_words=1, sample=0\n",
    ")\n",
    "d2v = Doc2Vec(**common_kwargs)\n",
    "print(\"Building vocab...\")\n",
    "d2v.build_vocab(documents_d2c)\n",
    "print(\"Training...\")\n",
    "d2v.train(\n",
    "    documents_d2c,\n",
    "    total_examples=d2v.corpus_count,\n",
    "    epochs=d2v.epochs\n",
    ")\n",
    "print(\"Finish...\")"
   ]
  },
  {
   "cell_type": "markdown",
   "metadata": {},
   "source": [
    "Validação do modelo gerado pelo Doc2Vec... teste tanto nos dados apresentados para treinamento quanto nos dados de testes e as acurácias alcançadas.\n",
    "\n",
    "Randomicamente escolhendo 100 amostras de teste."
   ]
  },
  {
   "cell_type": "code",
   "execution_count": 10,
   "metadata": {},
   "outputs": [
    {
     "name": "stdout",
     "output_type": "stream",
     "text": [
      "- Acurácia treino: 100.0\n",
      " - Acurácia teste 1  : 56.0\n",
      " - Acurácia teste 2  : 56.0\n",
      " - Acurácia teste 3  : 57.0\n",
      " - Acurácia teste 4  : 57.0\n",
      " - Acurácia teste 5  : 57.0\n",
      "- Acurácia média teste: 56.6\n"
     ]
    }
   ],
   "source": [
    "T = 100\n",
    "\n",
    "def validate(xt):\n",
    "    new_doc_vec = d2v.infer_vector(tokenizer(xt[0]), epochs=M)\n",
    "    sim = d2v.docvecs.most_similar(positive=[new_doc_vec], topn=1)\n",
    "    return xt[1] == y_train[sim[0][0]]\n",
    "\n",
    "dc = np.c_[X_train, y_train]\n",
    "with ProcessPoolExecutor(max_workers=cpu_count()) as exc:\n",
    "    elms = utils.shuffle([doc for doc in dc], n_samples=T)\n",
    "    acc = list(exc.map(validate, elms, chunksize=10))\n",
    "    print(\"- Acurácia treino:\", np.round(np.mean(acc) * 100, 2))\n",
    "\n",
    "def validate(xt):\n",
    "    new_doc_vec = d2v.infer_vector(tokenizer(xt[0]), epochs=M)\n",
    "    sim = np.array(d2v.docvecs.most_similar(positive=[new_doc_vec], topn=15))\n",
    "    unq, cnt = np.unique(y_train[sim[:, 0].astype(np.int32)], return_counts=True)\n",
    "    if unq[np.where(cnt == np.max(cnt))[0][0]] == y_train[sim[0][0].astype(np.int32)]:\n",
    "        return xt[1] == y_train[sim[0][0].astype(np.int32)]\n",
    "    return xt[1] == unq[np.where(cnt == np.max(cnt))[0][0]]\n",
    "\n",
    "accc = []\n",
    "dc = np.c_[X_test, y_test]\n",
    "with ProcessPoolExecutor(max_workers=cpu_count()) as exc:\n",
    "    for p in range(5):\n",
    "        elms = utils.shuffle([doc for doc in dc], n_samples=T)\n",
    "        acc = list(exc.map(validate, elms, chunksize=10))\n",
    "        print(f\" - Acurácia teste {p+1}  :\", np.round(np.mean(acc) * 100, 2))\n",
    "        accc += acc\n",
    "print(\"- Acurácia média teste:\", np.round(np.mean(accc) * 100, 2))"
   ]
  },
  {
   "cell_type": "markdown",
   "metadata": {},
   "source": [
    "#### Clusterização\n",
    "\n",
    "Utilizou-se o KMeans definindo a quantidade de clusters para o número ideal de categorias existentes no caso 33. A métrica de distância utilizada, não foi a euclidiana, mas sim a de cosseno (métrica comumente usada na classificação de texto em seu espaço vetorial)."
   ]
  },
  {
   "cell_type": "code",
   "execution_count": 11,
   "metadata": {},
   "outputs": [],
   "source": [
    "X = d2v.docvecs.vectors_docs\n",
    "\n",
    "def find_similar(doc):\n",
    "    return d2v.infer_vector(tokenizer(doc), epochs=M)\n",
    "\n",
    "with ProcessPoolExecutor(max_workers=cpu_count()) as exc:\n",
    "    XT = np.array(list(exc.map(find_similar, X_test, chunksize=25)))"
   ]
  },
  {
   "cell_type": "code",
   "execution_count": 12,
   "metadata": {},
   "outputs": [],
   "source": [
    "kclusterer = KMeansClusterer(\n",
    "    clusters,\n",
    "    distance=cosine_distance,\n",
    "    repeats=30,\n",
    "    rng=0,\n",
    "    avoid_empty_clusters=True\n",
    ")\n",
    "assigned_clusters = kclusterer.cluster(X, assign_clusters=True)\n",
    "assigned_clusters = np.array(assigned_clusters).ravel()\n",
    "centroids = kclusterer.means()"
   ]
  },
  {
   "cell_type": "code",
   "execution_count": 13,
   "metadata": {},
   "outputs": [
    {
     "name": "stdout",
     "output_type": "stream",
     "text": [
      "Frases por cluster:\n"
     ]
    },
    {
     "data": {
      "text/html": [
       "<table border=\"1\" class=\"dataframe\">\n",
       "  <thead>\n",
       "    <tr style=\"text-align: right;\">\n",
       "      <th>perguntas</th>\n",
       "      <th>cluster</th>\n",
       "    </tr>\n",
       "  </thead>\n",
       "  <tbody>\n",
       "    <tr>\n",
       "      <td>quero criar um novo username para mim</td>\n",
       "      <td>0</td>\n",
       "    </tr>\n",
       "    <tr>\n",
       "      <td>um patrulheiro pode ter uma conta de usuário?</td>\n",
       "      <td>1</td>\n",
       "    </tr>\n",
       "    <tr>\n",
       "      <td>eu nao gosto de falar com chatbots</td>\n",
       "      <td>2</td>\n",
       "    </tr>\n",
       "    <tr>\n",
       "      <td>Preciso desconectar uma das minhas linhas telefônicas. Posso fazer isso por telefone?</td>\n",
       "      <td>3</td>\n",
       "    </tr>\n",
       "    <tr>\n",
       "      <td>O cliente deseja ter o seu serviço desbloqueado</td>\n",
       "      <td>4</td>\n",
       "    </tr>\n",
       "    <tr>\n",
       "      <td>Bom dia, eu me pergunto que tipos de planos estão oferecendo e contendo esses planos de serviços?</td>\n",
       "      <td>5</td>\n",
       "    </tr>\n",
       "    <tr>\n",
       "      <td>existem mais serviços com os quais eu posso consultar?</td>\n",
       "      <td>5</td>\n",
       "    </tr>\n",
       "    <tr>\n",
       "      <td>não consegui acessar meu email</td>\n",
       "      <td>6</td>\n",
       "    </tr>\n",
       "    <tr>\n",
       "      <td>meu email foi bloqueado</td>\n",
       "      <td>6</td>\n",
       "    </tr>\n",
       "    <tr>\n",
       "      <td>Preciso remover o MMS no meu telefone.</td>\n",
       "      <td>7</td>\n",
       "    </tr>\n",
       "    <tr>\n",
       "      <td>essas opções não tem o que estou procurando</td>\n",
       "      <td>8</td>\n",
       "    </tr>\n",
       "    <tr>\n",
       "      <td>Qual é o primeiro mês quando eu posso atualizar um dos meus dispositivos</td>\n",
       "      <td>10</td>\n",
       "    </tr>\n",
       "    <tr>\n",
       "      <td>é para colocar minha senha do meu departamento ou outra?</td>\n",
       "      <td>12</td>\n",
       "    </tr>\n",
       "    <tr>\n",
       "      <td>como eu faco para acessar a rede da empresa estando eu em outro pais</td>\n",
       "      <td>14</td>\n",
       "    </tr>\n",
       "    <tr>\n",
       "      <td>how to configure vpn?</td>\n",
       "      <td>17</td>\n",
       "    </tr>\n",
       "    <tr>\n",
       "      <td>estou com problemas de autenticacao</td>\n",
       "      <td>18</td>\n",
       "    </tr>\n",
       "    <tr>\n",
       "      <td>Quanto é a taxa de ativação de um novo cartão SIM da minha operadora?</td>\n",
       "      <td>19</td>\n",
       "    </tr>\n",
       "    <tr>\n",
       "      <td>Tenho um sim card pré-pago e preciso ativar</td>\n",
       "      <td>19</td>\n",
       "    </tr>\n",
       "    <tr>\n",
       "      <td>Algo parece estar seriamente errado, já que nem posso fazer nem receber chamadas independentemente de onde estou.</td>\n",
       "      <td>20</td>\n",
       "    </tr>\n",
       "    <tr>\n",
       "      <td>Você sabe quanto tempo levará para ativar o meu telefone pré-pago?</td>\n",
       "      <td>22</td>\n",
       "    </tr>\n",
       "    <tr>\n",
       "      <td>Eu vou sair de férias em breve. Eu preciso adicionar chamadas internacionais para o meu plano.</td>\n",
       "      <td>25</td>\n",
       "    </tr>\n",
       "    <tr>\n",
       "      <td>Por favor, garanta-me que meu telefone funciona somente nos Estados Unidos.</td>\n",
       "      <td>25</td>\n",
       "    </tr>\n",
       "    <tr>\n",
       "      <td>Você pode me dizer a tarifa atual de cobrança da Europa Continental para o Reino Unido do meu telefone?</td>\n",
       "      <td>25</td>\n",
       "    </tr>\n",
       "    <tr>\n",
       "      <td>obrigado mesmo, você me ajudou</td>\n",
       "      <td>27</td>\n",
       "    </tr>\n",
       "    <tr>\n",
       "      <td>ok funcionou direito, obrigado</td>\n",
       "      <td>27</td>\n",
       "    </tr>\n",
       "    <tr>\n",
       "      <td>Posso transferir meus dados quando troco telefones?</td>\n",
       "      <td>28</td>\n",
       "    </tr>\n",
       "    <tr>\n",
       "      <td>Estou mudando de empresa e queria encontrar um plano pré-pago que funciona para mim, o que você tem?</td>\n",
       "      <td>28</td>\n",
       "    </tr>\n",
       "    <tr>\n",
       "      <td>Olá. É possível mudar o meu provedor para outro enquanto mantenho este número?</td>\n",
       "      <td>28</td>\n",
       "    </tr>\n",
       "    <tr>\n",
       "      <td>Que tipo de planos de roaming são oferecidos pelo meu provedor de serviços? Gostaria de um plano econômico que me permita roaming enquanto viajo.</td>\n",
       "      <td>29</td>\n",
       "    </tr>\n",
       "    <tr>\n",
       "      <td>como me conectar a rede sem fio</td>\n",
       "      <td>31</td>\n",
       "    </tr>\n",
       "  </tbody>\n",
       "</table>"
      ],
      "text/plain": [
       "<IPython.core.display.HTML object>"
      ]
     },
     "metadata": {},
     "output_type": "display_data"
    },
    {
     "name": "stdout",
     "output_type": "stream",
     "text": [
      "--------------------\n",
      "Documentos por cluster:\n"
     ]
    },
    {
     "data": {
      "text/html": [
       "<table border=\"1\" class=\"dataframe\">\n",
       "  <tbody>\n",
       "    <tr>\n",
       "      <td>C0</td>\n",
       "      <td>15</td>\n",
       "    </tr>\n",
       "    <tr>\n",
       "      <td>C1</td>\n",
       "      <td>22</td>\n",
       "    </tr>\n",
       "    <tr>\n",
       "      <td>C2</td>\n",
       "      <td>18</td>\n",
       "    </tr>\n",
       "    <tr>\n",
       "      <td>C3</td>\n",
       "      <td>27</td>\n",
       "    </tr>\n",
       "    <tr>\n",
       "      <td>C4</td>\n",
       "      <td>23</td>\n",
       "    </tr>\n",
       "    <tr>\n",
       "      <td>C5</td>\n",
       "      <td>19</td>\n",
       "    </tr>\n",
       "    <tr>\n",
       "      <td>C6</td>\n",
       "      <td>24</td>\n",
       "    </tr>\n",
       "    <tr>\n",
       "      <td>C7</td>\n",
       "      <td>18</td>\n",
       "    </tr>\n",
       "    <tr>\n",
       "      <td>C8</td>\n",
       "      <td>12</td>\n",
       "    </tr>\n",
       "    <tr>\n",
       "      <td>C9</td>\n",
       "      <td>27</td>\n",
       "    </tr>\n",
       "    <tr>\n",
       "      <td>C10</td>\n",
       "      <td>18</td>\n",
       "    </tr>\n",
       "    <tr>\n",
       "      <td>C11</td>\n",
       "      <td>11</td>\n",
       "    </tr>\n",
       "    <tr>\n",
       "      <td>C12</td>\n",
       "      <td>15</td>\n",
       "    </tr>\n",
       "    <tr>\n",
       "      <td>C13</td>\n",
       "      <td>10</td>\n",
       "    </tr>\n",
       "    <tr>\n",
       "      <td>C14</td>\n",
       "      <td>10</td>\n",
       "    </tr>\n",
       "    <tr>\n",
       "      <td>C15</td>\n",
       "      <td>15</td>\n",
       "    </tr>\n",
       "    <tr>\n",
       "      <td>C16</td>\n",
       "      <td>7</td>\n",
       "    </tr>\n",
       "    <tr>\n",
       "      <td>C17</td>\n",
       "      <td>12</td>\n",
       "    </tr>\n",
       "    <tr>\n",
       "      <td>C18</td>\n",
       "      <td>8</td>\n",
       "    </tr>\n",
       "    <tr>\n",
       "      <td>C19</td>\n",
       "      <td>18</td>\n",
       "    </tr>\n",
       "    <tr>\n",
       "      <td>C20</td>\n",
       "      <td>18</td>\n",
       "    </tr>\n",
       "    <tr>\n",
       "      <td>C21</td>\n",
       "      <td>12</td>\n",
       "    </tr>\n",
       "    <tr>\n",
       "      <td>C22</td>\n",
       "      <td>29</td>\n",
       "    </tr>\n",
       "    <tr>\n",
       "      <td>C23</td>\n",
       "      <td>9</td>\n",
       "    </tr>\n",
       "    <tr>\n",
       "      <td>C24</td>\n",
       "      <td>12</td>\n",
       "    </tr>\n",
       "    <tr>\n",
       "      <td>C25</td>\n",
       "      <td>23</td>\n",
       "    </tr>\n",
       "    <tr>\n",
       "      <td>C26</td>\n",
       "      <td>7</td>\n",
       "    </tr>\n",
       "    <tr>\n",
       "      <td>C27</td>\n",
       "      <td>20</td>\n",
       "    </tr>\n",
       "    <tr>\n",
       "      <td>C28</td>\n",
       "      <td>24</td>\n",
       "    </tr>\n",
       "    <tr>\n",
       "      <td>C29</td>\n",
       "      <td>40</td>\n",
       "    </tr>\n",
       "    <tr>\n",
       "      <td>C30</td>\n",
       "      <td>7</td>\n",
       "    </tr>\n",
       "    <tr>\n",
       "      <td>C31</td>\n",
       "      <td>22</td>\n",
       "    </tr>\n",
       "  </tbody>\n",
       "</table>"
      ],
      "text/plain": [
       "<IPython.core.display.HTML object>"
      ]
     },
     "metadata": {},
     "output_type": "display_data"
    }
   ],
   "source": [
    "docs = np.asarray(X_train)\n",
    "\n",
    "info = []\n",
    "frases = []\n",
    "for i in range(clusters):\n",
    "    idx = np.where(assigned_clusters == i)[0]\n",
    "    for doc in docs[idx]:\n",
    "        frases.append([doc, i])\n",
    "    info.append([i, len(docs[idx])])\n",
    "\n",
    "df = pd.DataFrame(frases, columns=[\"perguntas\", \"cluster\"])\n",
    "df_inf = pd.DataFrame(np.c_[[f\"C{i}\" for i in range(clusters)], np.asarray(info)[:, 1]])\n",
    "\n",
    "print(\"Frases por cluster:\")\n",
    "T = df.to_numpy()\n",
    "index = np.random.choice(T.shape[0], 30, replace=False)\n",
    "display(HTML(df.loc[index].sort_values(by=[\"cluster\"]).to_html(index=False)))\n",
    "\n",
    "print(\"-\" * 20)\n",
    "print(\"Documentos por cluster:\")\n",
    "display(HTML(df_inf.to_html(index=False, header=False)))"
   ]
  },
  {
   "cell_type": "markdown",
   "metadata": {},
   "source": [
    "#### Visualização\n",
    "\n",
    "Apresentação dos protótipos gerados pelo KMeans, reduzindo a dimensão usando o algoritmo MDS (Multidimensional Scaling)."
   ]
  },
  {
   "cell_type": "code",
   "execution_count": 14,
   "metadata": {},
   "outputs": [
    {
     "data": {
      "image/png": "[encoded data removed]",
      "text/plain": [
       "<Figure size 864x576 with 4 Axes>"
      ]
     },
     "metadata": {
      "needs_background": "light"
     },
     "output_type": "display_data"
    }
   ],
   "source": [
    "mds = MDS(\n",
    "    n_components=3,\n",
    "    n_init=5,\n",
    "    max_iter=500,\n",
    "    random_state=0,\n",
    "    n_jobs=-1\n",
    ")\n",
    "X_cnt = mds.fit_transform(centroids)\n",
    "\n",
    "plt.figure(figsize=(12, 8))\n",
    "ax = plt.subplot(2, 2, 1, projection='3d')\n",
    "plt.title(\"Centroids\")\n",
    "ax.scatter(X_cnt[:, 0], X_cnt[:, 1], X_cnt[:, 2], c=colors, alpha=1, s=50)\n",
    "ax = plt.subplot(2, 2, 2, projection='3d')\n",
    "plt.title(\"Centroids rotatio 0x0\")\n",
    "ax.scatter(X_cnt[:, 0], X_cnt[:, 1], X_cnt[:, 2], c=colors, alpha=1, s=50)\n",
    "ax.view_init(0, 0)\n",
    "ax = plt.subplot(2, 2, 3, projection='3d')\n",
    "plt.title(\"Centroids rotatio 45x10\")\n",
    "ax.scatter(X_cnt[:, 0], X_cnt[:, 1], X_cnt[:, 2], c=colors, alpha=1, s=50)\n",
    "ax.view_init(10, 45)\n",
    "ax = plt.subplot(2, 2, 4, projection='3d')\n",
    "plt.title(\"Centroids rotatio 10x45\")\n",
    "ax.scatter(X_cnt[:, 0], X_cnt[:, 1], X_cnt[:, 2], c=colors, alpha=1, s=50)\n",
    "ax.view_init(45, 10)\n",
    "plt.tight_layout()\n",
    "plt.show()"
   ]
  },
  {
   "cell_type": "markdown",
   "metadata": {},
   "source": [
    "#### Clusterização dos dados de Teste\n",
    "\n",
    "Por fim, realizada a clusterização dos dados de teste e a apresentação das 8 primeiras frases do conjunto de teste juntamente com outras duas frases do cluster ao qual foi identificado como o melhor."
   ]
  },
  {
   "cell_type": "code",
   "execution_count": 15,
   "metadata": {},
   "outputs": [
    {
     "name": "stdout",
     "output_type": "stream",
     "text": [
      "* Se eu ativar roaming agora, já posso utilizar?\n",
      "  -  Seria possível alguém para me acompanhar através das etapas para ativar meu dispositivo pré-pago?\n",
      "  -  Preciso apresentar algum documento para utilizar o seguro do meu aparelho?\n",
      "--------------------\n",
      "* Fui assaltado, preciso acionar seguro.\n",
      "  -  Eu preciso de ajuda para desativar meu celular pré-pago.\n",
      "  -  Eu não sei porque, mas o meu telefone não funciona em casa.\n",
      "--------------------\n",
      "* Estou bastante cansado do meu telefone existente e gostaria de saber quando eu vou ser elegível para sua atualização?\n",
      "  -  Quando minha conta vai ser elegível para um dispositivo atualizado\n",
      "  -  Como posso recarregar meu dispositivo quando estou na Áustria?\n",
      "--------------------\n",
      "* Oi, como posso ativar o encaminhamento de chamada no meu plano?\n",
      "  -  quero informações sobre email da minha empresa\n",
      "  -  como saber mais sobre o email da empresa\n",
      "--------------------\n",
      "* Eu não consigo acessar meu email\n",
      "  -  como criar um endereço eletrônico de email institucional\n",
      "  -  Meu email não está acessando\n",
      "--------------------\n",
      "* Estou indo para uma viagem ao extremo norte da Ilha de Vancouver e gostaria de verificar se há serviço de celular nessa área. Você pode verificar o quanto longe do norte eu posso esperar para receber a recepção.\n",
      "  -  Eu estive dirigido muito recentemente e foi praticamente impossível usar o serviço em algumas áreas. Você poderia me fornecer uma lista de locais / áreas com pouca ou nenhuma recepção?\n",
      "  -  Isso vai funcionar em todos os lugares?\n",
      "--------------------\n",
      "* Gostaria de verificar todas as taxas para cobertura internacional\n",
      "  -  Como atualizo minha conta para incluir chamadas internacionais?\n",
      "  -  Quero adicionar proteção do dispositivo à minha conta\n",
      "--------------------\n",
      "* Além do fornecimento de água vocês oferecem algum outro serviço?\n",
      "  -  quais outras informações sobre serviços prestados você oferece?\n",
      "  -  quais serviços estão disponíveis?\n",
      "--------------------\n"
     ]
    }
   ],
   "source": [
    "Xtest = X_test.to_numpy()\n",
    "for i, xt in enumerate(XT[:8]):\n",
    "    clt = kclusterer.classify(xt)\n",
    "    print(\"*\", Xtest[i])\n",
    "    for frase in utils.shuffle(df[df[\"cluster\"] == clt].to_numpy())[:2]:\n",
    "        print(\"  - \", frase[0])\n",
    "    print(\"-\" * 20)"
   ]
  },
  {
   "cell_type": "markdown",
   "metadata": {},
   "source": [
    "#### Métricas\n",
    "\n",
    "Abaixo são apresentadas métricas para demonstrar o quanto a clusterização parece funcionar."
   ]
  },
  {
   "cell_type": "code",
   "execution_count": 16,
   "metadata": {},
   "outputs": [
    {
     "name": "stdout",
     "output_type": "stream",
     "text": [
      "Homogeneidade    :  0.717\n",
      "Completude       :  0.73\n",
      "Silhouette       :  0.01\n"
     ]
    }
   ],
   "source": [
    "hom = homogeneity_score(y_test, [kclusterer.classify(xt) for xt in XT])\n",
    "compl = completeness_score(y_test, [kclusterer.classify(xt) for xt in XT])\n",
    "silh = silhouette_score(XT, labels=[kclusterer.classify(xt) for xt in XT], metric=\"cosine\", random_state=0)\n",
    "\n",
    "print(\"Homogeneidade    : \", np.round(hom, 3))\n",
    "print(\"Completude       : \", np.round(compl, 3))\n",
    "print(\"Silhouette       : \", np.round(silh, 3))"
   ]
  },
  {
   "cell_type": "markdown",
   "metadata": {},
   "source": [
    "Como exemplo de comparação, foi executado o mesmo algoritmo de clusterização (conforme apresentado acima) entretanto variando a quantidade do número de clusters para verificar como as métricas se comportam."
   ]
  },
  {
   "cell_type": "code",
   "execution_count": 17,
   "metadata": {},
   "outputs": [],
   "source": [
    "t_cluster = 40\n",
    "\n",
    "clusterizacao = []\n",
    "\n",
    "def multi_kmeans(X, XT, k):\n",
    "    kclusterer_ = KMeansClusterer(k, distance=cosine_distance, repeats=30, avoid_empty_clusters=True)\n",
    "    assigned_clusters = kclusterer_.cluster(X, assign_clusters=True)\n",
    "    hom = homogeneity_score(y_test, [kclusterer_.classify(xt) for xt in XT])\n",
    "    compl = completeness_score(y_test, [kclusterer_.classify(xt) for xt in XT])\n",
    "    silh = silhouette_score(XT, labels=[kclusterer_.classify(xt) for xt in XT], metric=\"cosine\", random_state=0)\n",
    "    dbs = davies_bouldin_score(1-cosine_similarity(XT), labels=[kclusterer.classify(xt) for xt in XT])\n",
    "    return {\"K\": k, \"HOM\": hom, \"COMPL\": compl, \"SILH\": silh}\n",
    "\n",
    "with ProcessPoolExecutor(max_workers=cpu_count()) as exc:\n",
    "    results = list(exc.map(partial(multi_kmeans, X, XT), range(2, t_cluster), chunksize=10))\n",
    "    for r in results:   \n",
    "        clusterizacao.append({\n",
    "            \"Qtd. Cluster\": r[\"K\"],\n",
    "            \"Homogeneity\": np.round(r[\"HOM\"], 3),\n",
    "            \"Completeness\": np.round(r[\"COMPL\"], 3),\n",
    "            \"Silhouette\": np.round(r[\"SILH\"], 3)\n",
    "        })"
   ]
  },
  {
   "cell_type": "code",
   "execution_count": 18,
   "metadata": {},
   "outputs": [
    {
     "data": {
      "image/png": "[encoded data removed]",
      "text/plain": [
       "<Figure size 792x360 with 2 Axes>"
      ]
     },
     "metadata": {
      "needs_background": "light"
     },
     "output_type": "display_data"
    }
   ],
   "source": [
    "df_cluster = pd.DataFrame(clusterizacao, columns=[\"Qtd. Cluster\", \"Homogeneity\", \"Completeness\", \"Silhouette\"])\n",
    "\n",
    "plt.figure(figsize=(11, 5))\n",
    "plt.subplot(1, 2, 1)\n",
    "plt.plot(df_cluster[\"Qtd. Cluster\"], df_cluster[\"Homogeneity\"], label=\"Homogeneity\")\n",
    "plt.plot(df_cluster[\"Qtd. Cluster\"], df_cluster[\"Completeness\"], label=\"Completeness\")\n",
    "plt.xticks(range(2, 40, 2))\n",
    "plt.xlabel(\"Qtd. Cluster\")\n",
    "plt.ylabel(\"Porcentagem\")\n",
    "plt.legend()\n",
    "plt.subplot(1, 2, 2)\n",
    "plt.title(\"\")\n",
    "plt.plot(df_cluster[\"Qtd. Cluster\"], df_cluster[\"Silhouette\"], c=\"C3\")\n",
    "plt.xticks(range(2, 40, 2))\n",
    "plt.xlabel(\"Qtd. Cluster\")\n",
    "plt.ylabel(\"Silhouette\")\n",
    "plt.tight_layout()\n",
    "plt.show()"
   ]
  },
  {
   "cell_type": "markdown",
   "metadata": {},
   "source": [
    "#### Escolha da quantidade de Cluster\n",
    "\n",
    "Como não sabe-se ao certo quantos clusteres na realidade podem vir a existir, considerou-se que a quantidade máxima de clusters seria algo em torno de 10% da quantidade de dados existentes.\n",
    "\n",
    "Para calcular exatamente qual a quantidade máxima, utilizou-se do maior valor dados pelas métricas Elbow e Silhouette (cada uma dando seu valor ideal de clusteres).\n",
    "\n",
    "Abaixo segue o resultado."
   ]
  },
  {
   "cell_type": "code",
   "execution_count": 19,
   "metadata": {},
   "outputs": [
    {
     "name": "stdout",
     "output_type": "stream",
     "text": [
      "Running Elbow...\n",
      "Running Silhouette...\n"
     ]
    },
    {
     "ename": "ValueError",
     "evalue": "zero-size array to reduction operation maximum which has no identity",
     "output_type": "error",
     "traceback": [
      "\u001b[0;31m---------------------------------------------------------------------------\u001b[0m",
      "\u001b[0;31mValueError\u001b[0m                                Traceback (most recent call last)",
      "\u001b[0;32m<ipython-input-19-54333f10bae4>\u001b[0m in \u001b[0;36m<module>\u001b[0;34m\u001b[0m\n\u001b[1;32m     34\u001b[0m     \u001b[0mamount\u001b[0m\u001b[0;34m,\u001b[0m \u001b[0msilhouette_scores\u001b[0m \u001b[0;34m=\u001b[0m \u001b[0msilhouette\u001b[0m\u001b[0;34m[\u001b[0m\u001b[0;34m:\u001b[0m\u001b[0;34m,\u001b[0m \u001b[0;36m0\u001b[0m\u001b[0;34m]\u001b[0m\u001b[0;34m,\u001b[0m \u001b[0msilhouette\u001b[0m\u001b[0;34m[\u001b[0m\u001b[0;34m:\u001b[0m\u001b[0;34m,\u001b[0m \u001b[0;36m1\u001b[0m\u001b[0;34m]\u001b[0m\u001b[0;34m\u001b[0m\u001b[0;34m\u001b[0m\u001b[0m\n\u001b[1;32m     35\u001b[0m     \u001b[0msilhouette_scores\u001b[0m\u001b[0;34m[\u001b[0m\u001b[0mnp\u001b[0m\u001b[0;34m.\u001b[0m\u001b[0misnan\u001b[0m\u001b[0;34m(\u001b[0m\u001b[0mscores\u001b[0m\u001b[0;34m)\u001b[0m\u001b[0;34m]\u001b[0m \u001b[0;34m=\u001b[0m \u001b[0;34m-\u001b[0m\u001b[0;36m1\u001b[0m\u001b[0;34m\u001b[0m\u001b[0;34m\u001b[0m\u001b[0m\n\u001b[0;32m---> 36\u001b[0;31m     \u001b[0msilhouette_amount_clusters\u001b[0m \u001b[0;34m=\u001b[0m \u001b[0mint\u001b[0m\u001b[0;34m(\u001b[0m\u001b[0mamount\u001b[0m\u001b[0;34m[\u001b[0m\u001b[0mnp\u001b[0m\u001b[0;34m.\u001b[0m\u001b[0mwhere\u001b[0m\u001b[0;34m(\u001b[0m\u001b[0mscores\u001b[0m \u001b[0;34m==\u001b[0m \u001b[0mnp\u001b[0m\u001b[0;34m.\u001b[0m\u001b[0mmax\u001b[0m\u001b[0;34m(\u001b[0m\u001b[0mscores\u001b[0m\u001b[0;34m)\u001b[0m\u001b[0;34m)\u001b[0m\u001b[0;34m]\u001b[0m\u001b[0;34m[\u001b[0m\u001b[0;36m0\u001b[0m\u001b[0;34m]\u001b[0m\u001b[0;34m)\u001b[0m\u001b[0;34m\u001b[0m\u001b[0;34m\u001b[0m\u001b[0m\n\u001b[0m\u001b[1;32m     37\u001b[0m \u001b[0;34m\u001b[0m\u001b[0m\n\u001b[1;32m     38\u001b[0m \u001b[0mprint\u001b[0m\u001b[0;34m(\u001b[0m\u001b[0;34m\"N. Elbow      Cluster : \"\u001b[0m\u001b[0;34m,\u001b[0m \u001b[0melbow_amount_clusters\u001b[0m\u001b[0;34m)\u001b[0m\u001b[0;34m\u001b[0m\u001b[0;34m\u001b[0m\u001b[0m\n",
      "\u001b[0;32m<__array_function__ internals>\u001b[0m in \u001b[0;36mamax\u001b[0;34m(*args, **kwargs)\u001b[0m\n",
      "\u001b[0;32m~/.pyenv/versions/3.7.3/lib/python3.7/site-packages/numpy/core/fromnumeric.py\u001b[0m in \u001b[0;36mamax\u001b[0;34m(a, axis, out, keepdims, initial, where)\u001b[0m\n\u001b[1;32m   2619\u001b[0m     \"\"\"\n\u001b[1;32m   2620\u001b[0m     return _wrapreduction(a, np.maximum, 'max', axis, None, out,\n\u001b[0;32m-> 2621\u001b[0;31m                           keepdims=keepdims, initial=initial, where=where)\n\u001b[0m\u001b[1;32m   2622\u001b[0m \u001b[0;34m\u001b[0m\u001b[0m\n\u001b[1;32m   2623\u001b[0m \u001b[0;34m\u001b[0m\u001b[0m\n",
      "\u001b[0;32m~/.pyenv/versions/3.7.3/lib/python3.7/site-packages/numpy/core/fromnumeric.py\u001b[0m in \u001b[0;36m_wrapreduction\u001b[0;34m(obj, ufunc, method, axis, dtype, out, **kwargs)\u001b[0m\n\u001b[1;32m     88\u001b[0m                 \u001b[0;32mreturn\u001b[0m \u001b[0mreduction\u001b[0m\u001b[0;34m(\u001b[0m\u001b[0maxis\u001b[0m\u001b[0;34m=\u001b[0m\u001b[0maxis\u001b[0m\u001b[0;34m,\u001b[0m \u001b[0mout\u001b[0m\u001b[0;34m=\u001b[0m\u001b[0mout\u001b[0m\u001b[0;34m,\u001b[0m \u001b[0;34m**\u001b[0m\u001b[0mpasskwargs\u001b[0m\u001b[0;34m)\u001b[0m\u001b[0;34m\u001b[0m\u001b[0;34m\u001b[0m\u001b[0m\n\u001b[1;32m     89\u001b[0m \u001b[0;34m\u001b[0m\u001b[0m\n\u001b[0;32m---> 90\u001b[0;31m     \u001b[0;32mreturn\u001b[0m \u001b[0mufunc\u001b[0m\u001b[0;34m.\u001b[0m\u001b[0mreduce\u001b[0m\u001b[0;34m(\u001b[0m\u001b[0mobj\u001b[0m\u001b[0;34m,\u001b[0m \u001b[0maxis\u001b[0m\u001b[0;34m,\u001b[0m \u001b[0mdtype\u001b[0m\u001b[0;34m,\u001b[0m \u001b[0mout\u001b[0m\u001b[0;34m,\u001b[0m \u001b[0;34m**\u001b[0m\u001b[0mpasskwargs\u001b[0m\u001b[0;34m)\u001b[0m\u001b[0;34m\u001b[0m\u001b[0;34m\u001b[0m\u001b[0m\n\u001b[0m\u001b[1;32m     91\u001b[0m \u001b[0;34m\u001b[0m\u001b[0m\n\u001b[1;32m     92\u001b[0m \u001b[0;34m\u001b[0m\u001b[0m\n",
      "\u001b[0;31mValueError\u001b[0m: zero-size array to reduction operation maximum which has no identity"
     ]
    }
   ],
   "source": [
    "def calculate_silhouette_metric(X, K):\n",
    "    km_ = KMeansClusterer(\n",
    "        K, distance=cosine_distance,\n",
    "        repeats=10,\n",
    "        avoid_empty_clusters=True\n",
    "    )\n",
    "    assigned_clusters_ = np.array(km_.cluster(X, assign_clusters=True)).ravel()\n",
    "    centroids = km_.means()\n",
    "    sh_score = silhouette_score(X, assigned_clusters_, metric='cosine', random_state=0)\n",
    "    return [len(centroids), sh_score]\n",
    "\n",
    "kmin = 10\n",
    "kmax = int(np.ceil((X.shape[0] * 0.1)))\n",
    "kmax = 30 if kmax > 30 else kmax\n",
    "\n",
    "print(\"Running Elbow...\")\n",
    "elbow_error = []\n",
    "elbow_amount_clusters = 2\n",
    "elbow_cosine_distance = np.copy(1 - cosine_similarity(X))\n",
    "for _ in range(5):\n",
    "    elbow_instance = elbow(elbow_cosine_distance, kmin, kmax + 1)\n",
    "    elbow_instance.process()\n",
    "    amc = elbow_instance.get_amount()\n",
    "    if amc > elbow_amount_clusters:\n",
    "        elbow_amount_clusters = amc\n",
    "        elbow_error = elbow_instance.get_wce()\n",
    "\n",
    "print(\"Running Silhouette...\")\n",
    "\n",
    "scores = []\n",
    "silhouette_amount_clusters = 0\n",
    "with ProcessPoolExecutor(max_workers=cpu_count()) as exc:\n",
    "    silhouette = np.asarray(list(exc.map(partial(calculate_silhouette_metric, X), range(kmin, kmax + 1), chunksize=5)))\n",
    "    amount, silhouette_scores = silhouette[:, 0], silhouette[:, 1]\n",
    "    silhouette_scores[np.isnan(silhouette_scores)] = -1\n",
    "    silhouette_amount_clusters = int(amount[np.where(silhouette_scores == np.max(silhouette_scores))][0])\n",
    "\n",
    "print(\"N. Elbow      Cluster : \", elbow_amount_clusters)\n",
    "print(\"N. Silhouette Cluster : \", silhouette_amount_clusters)\n",
    "qtd_cluster = elbow_amount_clusters if elbow_amount_clusters > silhouette_amount_clusters else silhouette_amount_clusters"
   ]
  },
  {
   "cell_type": "code",
   "execution_count": null,
   "metadata": {},
   "outputs": [],
   "source": [
    "plt.figure(figsize=(14, 5))\n",
    "ax = plt.subplot(1, 2, 1)\n",
    "plt.plot(elbow_error)\n",
    "plt.xticks(range(kmin, kmax, 2))\n",
    "ax.set_xlim(kmin, kmax)\n",
    "plt.xlabel(\"Qtd. Cluster\")\n",
    "plt.ylabel(\"Elbow (WCE)\")\n",
    "ax = plt.subplot(1, 2, 2)\n",
    "plt.plot(scores)\n",
    "plt.xticks(range(kmin, kmax, 2))\n",
    "ax.set_xlim(kmin, kmax)\n",
    "plt.xlabel(\"Qtd. Cluster\")\n",
    "plt.ylabel(\"Silhouette\")\n",
    "plt.tight_layout()\n",
    "plt.show()"
   ]
  },
  {
   "cell_type": "code",
   "execution_count": null,
   "metadata": {},
   "outputs": [],
   "source": [
    "kclusterer = KMeansClusterer(\n",
    "    qtd_cluster,\n",
    "    distance=cosine_distance,\n",
    "    repeats=30,\n",
    "    rng=0,\n",
    "    avoid_empty_clusters=True\n",
    ")\n",
    "assigned_clusters = kclusterer.cluster(X, assign_clusters=True)\n",
    "assigned_clusters = np.array(assigned_clusters).ravel()\n",
    "centroids = kclusterer.means()\n",
    "\n",
    "docs = np.asarray(X_train)\n",
    "\n",
    "info = []\n",
    "frases = []\n",
    "for i in range(qtd_cluster):\n",
    "    idx = np.where(assigned_clusters == i)[0]\n",
    "    for doc in docs[idx]:\n",
    "        frases.append([doc, i])\n",
    "    info.append([i, len(docs[idx])])\n",
    "\n",
    "df = pd.DataFrame(frases, columns=[\"perguntas\", \"cluster\"])\n",
    "df_inf = pd.DataFrame(np.c_[[f\"C{i}\" for i in range(qtd_cluster)], np.asarray(info)[:, 1]])\n",
    "\n",
    "print(\"Frases por cluster:\")\n",
    "T = df.to_numpy()\n",
    "index = np.random.choice(T.shape[0], 30, replace=False)\n",
    "display(HTML(df.loc[index].sort_values(by=[\"cluster\"]).to_html(index=False)))\n",
    "\n",
    "print(\"-\" * 20)\n",
    "print(\"Documentos por cluster:\")\n",
    "HTML(df_inf.to_html(index=False, header=False))"
   ]
  },
  {
   "cell_type": "markdown",
   "metadata": {},
   "source": [
    "---"
   ]
  },
  {
   "cell_type": "markdown",
   "metadata": {},
   "source": [
    "### **TF-IDF**\n",
    "\n",
    "No caso do tf-idf, assim como no doc2vec foi escolhido um máximo de até 500 features (ou dimensões). Entretanto, diferentemente do doc2vec o tf-idf não adiciona dimensões caso a quantidade de termos (palavras) seja inferior a esse máximo, mas ele corta caso for maior."
   ]
  },
  {
   "cell_type": "code",
   "execution_count": null,
   "metadata": {},
   "outputs": [],
   "source": [
    "P = X_train.shape[0]\n",
    "print(\"Tokenization...\")\n",
    "documents_tfidf = [\" \".join(tokenizer(doc)) for doc in X_train]\n",
    "print(\"Qtd documentos treino: \", len(documents_tfidf))\n",
    "print(\"Qtd Intents treino   : \", len(np.unique(df_data[\"cluster\"].to_numpy())))\n",
    "print(\"Finished...\")"
   ]
  },
  {
   "cell_type": "code",
   "execution_count": null,
   "metadata": {},
   "outputs": [],
   "source": [
    "documents_tfidf[:10]"
   ]
  },
  {
   "cell_type": "code",
   "execution_count": null,
   "metadata": {},
   "outputs": [],
   "source": [
    "tfidf = TfidfVectorizer(max_features=1000)\n",
    "X_trans = tfidf.fit_transform(documents_tfidf)"
   ]
  },
  {
   "cell_type": "markdown",
   "metadata": {},
   "source": [
    "Validação do modelo gerado pelo TF-IDF... teste tanto nos dados apresentados para treinamento quanto nos dados de testes e as acurácias alcançadas.\n",
    "\n",
    "Randomicamente escolhendo 100 amostras de teste."
   ]
  },
  {
   "cell_type": "code",
   "execution_count": null,
   "metadata": {},
   "outputs": [],
   "source": [
    "T = 100\n",
    "\n",
    "dc = np.c_[X_train, y_train]\n",
    "docs = utils.shuffle([doc for doc in dc], n_samples=T)\n",
    "docs = [\" \".join(tokenizer(doc)) for doc, y in docs]\n",
    "sim = np.round(1 - cosine_similarity(tfidf.transform(docs)), 3)\n",
    "acc = []\n",
    "for i, xt in enumerate(dc[:T]):\n",
    "    acc.append(int(xt[1]) == int(dc[np.where(sim[i] <= 0.3)][0][1]))\n",
    "print(\"- Acurácia treino:\", np.round(np.mean(acc) * 100, 2))\n",
    "print(\"-\" * 20)\n",
    "\n",
    "\n",
    "def validate(X_trans, y_train, tfidf, doc):\n",
    "    doct = tfidf.transform([doc[0]])\n",
    "    sim = np.round(1 - cosine_similarity(doct, X_trans), 3).ravel()\n",
    "    dcs = np.where(sim <= 0.3)\n",
    "    it = 0.35\n",
    "    while len(dcs[0]) == 0:\n",
    "        dcs = np.where(sim <= it)\n",
    "        it += 0.05\n",
    "    return int(doc[1]) == int(y_train[dcs[0][0]])\n",
    "\n",
    "accc = []\n",
    "dc = np.c_[X_test, y_test]\n",
    "with ProcessPoolExecutor(max_workers=cpu_count()) as exc:\n",
    "    for p in range(5):\n",
    "        docs1 = utils.shuffle([doc for doc in dc], n_samples=T)\n",
    "        docs = np.array([[\" \".join(tokenizer(doc)), y] for doc, y in docs1])\n",
    "        acc = list(exc.map(partial(validate, X_trans, y_train, tfidf), docs))\n",
    "        print(f\" - Acurácia teste {p+1}  :\", np.round(np.mean(acc) * 100, 2))\n",
    "        accc += acc\n",
    "print(\"- Acurácia média teste:\", np.round(np.mean(accc) * 100, 2))"
   ]
  },
  {
   "cell_type": "markdown",
   "metadata": {},
   "source": [
    "#### Clusterização\n",
    "\n",
    "Utilizou-se o KMeans definindo a quantidade de clusters para o número ideal de categorias existentes no caso 33. A métrica de distância utilizada, não foi a euclidiana, mas sim a de cosseno (métrica comumente usada na classificação de texto em seu espaço vetorial)."
   ]
  },
  {
   "cell_type": "code",
   "execution_count": null,
   "metadata": {},
   "outputs": [],
   "source": [
    "X = np.array(tfidf.transform(documents_tfidf).todense())\n",
    "XT = np.array(tfidf.transform([\" \".join(tokenizer(doc)) for doc in X_test]).todense())"
   ]
  },
  {
   "cell_type": "code",
   "execution_count": null,
   "metadata": {},
   "outputs": [],
   "source": [
    "kclusterer = KMeansClusterer(\n",
    "    clusters,\n",
    "    distance=cosine_distance,\n",
    "    repeats=30,\n",
    "    rng=0,\n",
    "    avoid_empty_clusters=True\n",
    ")\n",
    "assigned_clusters = kclusterer.cluster(X, assign_clusters=True)\n",
    "assigned_clusters = np.array(assigned_clusters).ravel()\n",
    "centroids = kclusterer.means()"
   ]
  },
  {
   "cell_type": "code",
   "execution_count": null,
   "metadata": {},
   "outputs": [],
   "source": [
    "docs = np.asarray(X_train)\n",
    "\n",
    "info = []\n",
    "frases = []\n",
    "for i in range(clusters):\n",
    "    idx = np.where(assigned_clusters == i)[0]\n",
    "    for doc in docs[idx]:\n",
    "        frases.append([doc, i])\n",
    "    info.append([i, len(docs[idx])])\n",
    "\n",
    "df = pd.DataFrame(frases, columns=[\"perguntas\", \"cluster\"])\n",
    "df_inf = pd.DataFrame(np.c_[[f\"C{i}\" for i in range(clusters)], np.asarray(info)[:, 1]])\n",
    "\n",
    "print(\"Frases por cluster:\")\n",
    "T = df.to_numpy()\n",
    "index = np.random.choice(T.shape[0], 30, replace=False)\n",
    "display(HTML(df.loc[index].sort_values(by=[\"cluster\"]).to_html(index=False)))\n",
    "\n",
    "print(\"-\" * 20)\n",
    "print(\"Documentos por cluster:\")\n",
    "HTML(df_inf.to_html(index=False, header=False))"
   ]
  },
  {
   "cell_type": "markdown",
   "metadata": {},
   "source": [
    "#### Visualização\n",
    "\n",
    "Apresentação dos protótipos gerados pelo KMeans, reduzindo a dimensão usando o algoritmo MDS (Multidimensional Scaling)."
   ]
  },
  {
   "cell_type": "code",
   "execution_count": null,
   "metadata": {},
   "outputs": [],
   "source": [
    "mds = MDS(\n",
    "    n_components=3,\n",
    "    n_init=5,\n",
    "    max_iter=500,\n",
    "    random_state=0,\n",
    "    n_jobs=-1\n",
    ")\n",
    "X_cnt = mds.fit_transform(centroids)\n",
    "\n",
    "plt.figure(figsize=(12, 8))\n",
    "ax = plt.subplot(2, 2, 1, projection='3d')\n",
    "plt.title(\"Centroids\")\n",
    "ax.scatter(X_cnt[:, 0], X_cnt[:, 1], X_cnt[:, 2], c=colors, alpha=1, s=50)\n",
    "ax = plt.subplot(2, 2, 2, projection='3d')\n",
    "plt.title(\"Centroids rotatio 0x0\")\n",
    "ax.scatter(X_cnt[:, 0], X_cnt[:, 1], X_cnt[:, 2], c=colors, alpha=1, s=50)\n",
    "ax.view_init(0, 0)\n",
    "ax = plt.subplot(2, 2, 3, projection='3d')\n",
    "plt.title(\"Centroids rotatio 45x10\")\n",
    "ax.scatter(X_cnt[:, 0], X_cnt[:, 1], X_cnt[:, 2], c=colors, alpha=1, s=50)\n",
    "ax.view_init(10, 45)\n",
    "ax = plt.subplot(2, 2, 4, projection='3d')\n",
    "plt.title(\"Centroids rotatio 10x45\")\n",
    "ax.scatter(X_cnt[:, 0], X_cnt[:, 1], X_cnt[:, 2], c=colors, alpha=1, s=50)\n",
    "ax.view_init(45, 10)\n",
    "plt.tight_layout()\n",
    "plt.show()"
   ]
  },
  {
   "cell_type": "markdown",
   "metadata": {},
   "source": [
    "#### Clusterização dos dados de Teste\n",
    "\n",
    "Por fim, realizada a clusterização dos dados de teste e a apresentação das 8 primeiras frases do conjunto de teste juntamente com outras duas frases do cluster ao qual foi identificado como o melhor."
   ]
  },
  {
   "cell_type": "code",
   "execution_count": null,
   "metadata": {},
   "outputs": [],
   "source": [
    "Xtest = X_test.to_numpy()\n",
    "for i, xt in enumerate(XT[:8]):\n",
    "    clt = kclusterer.classify(xt)\n",
    "    print(\"*\", Xtest[i])\n",
    "    for frase in utils.shuffle(df[df[\"cluster\"] == clt].to_numpy())[:2]:\n",
    "        print(\"  - \", frase[0])\n",
    "    print(\"-\" * 20)"
   ]
  },
  {
   "cell_type": "markdown",
   "metadata": {},
   "source": [
    "#### Métricas\n",
    "\n",
    "Abaixo são apresentadas métricas para demonstrar o quanto a clusterização parece funcionar."
   ]
  },
  {
   "cell_type": "code",
   "execution_count": null,
   "metadata": {},
   "outputs": [],
   "source": [
    "hom = homogeneity_score(y_test, [kclusterer.classify(xt) for xt in XT])\n",
    "compl = completeness_score(y_test, [kclusterer.classify(xt) for xt in XT])\n",
    "silh = silhouette_score(XT, labels=[kclusterer.classify(xt) for xt in XT], metric=\"cosine\", random_state=0)\n",
    "\n",
    "print(\"Homogeneidade: \", np.round(hom, 3))\n",
    "print(\"Completude   : \", np.round(compl, 3))\n",
    "print(\"Silhouette   : \", np.round(silh, 3))"
   ]
  },
  {
   "cell_type": "code",
   "execution_count": null,
   "metadata": {},
   "outputs": [],
   "source": [
    "t_cluster = 40\n",
    "\n",
    "clusterizacao = []\n",
    "\n",
    "def multi_kmeans(X, XT, k):\n",
    "    kclusterer_ = KMeansClusterer(k, distance=cosine_distance, repeats=30, avoid_empty_clusters=True)\n",
    "    assigned_clusters = kclusterer_.cluster(X, assign_clusters=True)\n",
    "    hom = homogeneity_score(y_test, [kclusterer_.classify(xt) for xt in XT])\n",
    "    compl = completeness_score(y_test, [kclusterer_.classify(xt) for xt in XT])\n",
    "    silh = silhouette_score(XT, labels=[kclusterer_.classify(xt) for xt in XT], metric=\"cosine\", random_state=0)\n",
    "    return {\"K\": k, \"HOM\": hom, \"COMPL\": compl, \"SILH\": silh}\n",
    "\n",
    "with ProcessPoolExecutor(max_workers=cpu_count()) as exc:\n",
    "    results = list(exc.map(partial(multi_kmeans, X, XT), range(2, t_cluster), chunksize=10))\n",
    "    for r in results:   \n",
    "        clusterizacao.append({\n",
    "            \"Qtd. Cluster\": r[\"K\"],\n",
    "            \"Homogeneity\": np.round(r[\"HOM\"], 3),\n",
    "            \"Completeness\": np.round(r[\"COMPL\"], 3),\n",
    "            \"Silhouette\": np.round(r[\"SILH\"], 3),\n",
    "        })"
   ]
  },
  {
   "cell_type": "code",
   "execution_count": null,
   "metadata": {},
   "outputs": [],
   "source": [
    "df_cluster = pd.DataFrame(clusterizacao, columns=[\"Qtd. Cluster\", \"Homogeneity\", \"Completeness\", \"Silhouette\"])\n",
    "\n",
    "plt.figure(figsize=(11, 5))\n",
    "plt.subplot(1, 2, 1)\n",
    "plt.plot(df_cluster[\"Qtd. Cluster\"], df_cluster[\"Homogeneity\"], label=\"Homogeneity\")\n",
    "plt.plot(df_cluster[\"Qtd. Cluster\"], df_cluster[\"Completeness\"], label=\"Completeness\")\n",
    "plt.xticks(range(2, 40, 2))\n",
    "plt.xlabel(\"Qtd. Cluster\")\n",
    "plt.ylabel(\"Porcentagem\")\n",
    "plt.legend()\n",
    "plt.subplot(1, 2, 2)\n",
    "plt.title(\"\")\n",
    "plt.plot(df_cluster[\"Qtd. Cluster\"], df_cluster[\"Silhouette\"], c=\"C3\")\n",
    "plt.xticks(range(2, 40, 2))\n",
    "plt.xlabel(\"Qtd. Cluster\")\n",
    "plt.ylabel(\"Silhouette\")\n",
    "plt.tight_layout()\n",
    "plt.show()"
   ]
  },
  {
   "cell_type": "markdown",
   "metadata": {},
   "source": [
    "#### Escolha da quantidade de Cluster\n",
    "\n",
    "Como não sabe-se ao certo quantos clusteres na realidade podem vir a existir, considerou-se que a quantidade máxima de clusters seria algo em torno de 10% da quantidade de dados existentes.\n",
    "\n",
    "Para calcular exatamente qual a quantidade máxima, utilizou-se do maior valor dados pelas métricas Elbow e Silhouette (cada uma dando seu valor ideal de clusteres).\n",
    "\n",
    "Abaixo segue o resultado."
   ]
  },
  {
   "cell_type": "code",
   "execution_count": null,
   "metadata": {},
   "outputs": [],
   "source": [
    "def calculate_silhouette_metric(X, K):\n",
    "    km_ = KMeansClusterer(\n",
    "        K, distance=cosine_distance,\n",
    "        repeats=10,\n",
    "        avoid_empty_clusters=True\n",
    "    )\n",
    "    assigned_clusters_ = np.array(km_.cluster(X, assign_clusters=True)).ravel()\n",
    "    centroids = km_.means()\n",
    "    sh_score = silhouette_score(X, assigned_clusters_, metric='cosine', random_state=0)\n",
    "    return [len(centroids), sh_score]\n",
    "\n",
    "kmin = 10\n",
    "kmax = int(np.ceil((X.shape[0] * 0.1)))\n",
    "kmax = 30 if kmax > 30 else kmax\n",
    "\n",
    "print(\"Running Elbow...\")\n",
    "elbow_error = []\n",
    "elbow_amount_clusters = 2\n",
    "elbow_cosine_distance = np.copy(1 - cosine_similarity(X))\n",
    "for _ in range(5):\n",
    "    elbow_instance = elbow(elbow_cosine_distance, kmin, kmax + 1)\n",
    "    elbow_instance.process()\n",
    "    amc = elbow_instance.get_amount()\n",
    "    if amc > elbow_amount_clusters:\n",
    "        elbow_amount_clusters = amc\n",
    "        elbow_error = elbow_instance.get_wce()\n",
    "\n",
    "print(\"Running Silhouette...\")\n",
    "\n",
    "scores = []\n",
    "silhouette_amount_clusters = 0\n",
    "with ProcessPoolExecutor(max_workers=cpu_count()) as exc:\n",
    "    silhouette = np.asarray(list(exc.map(partial(calculate_silhouette_metric, X), range(kmin, kmax + 1), chunksize=5)))\n",
    "    amount, silhouette_scores = silhouette[:, 0], silhouette[:, 1]\n",
    "    silhouette_scores[np.isnan(silhouette_scores)] = -1\n",
    "    silhouette_amount_clusters = int(amount[np.where(silhouette_scores == np.max(silhouette_scores))][0])\n",
    "\n",
    "print(\"N. Elbow      Cluster : \", elbow_amount_clusters)\n",
    "print(\"N. Silhouette Cluster : \", silhouette_amount_clusters)\n",
    "qtd_cluster = elbow_amount_clusters if elbow_amount_clusters > silhouette_amount_clusters else silhouette_amount_clusters"
   ]
  },
  {
   "cell_type": "code",
   "execution_count": null,
   "metadata": {},
   "outputs": [],
   "source": [
    "plt.figure(figsize=(14, 5))\n",
    "ax = plt.subplot(1, 2, 1)\n",
    "plt.plot(elbow_error)\n",
    "plt.xticks(range(kmin, kmax, 2))\n",
    "ax.set_xlim(kmin, kmax)\n",
    "plt.xlabel(\"Qtd. Cluster\")\n",
    "plt.ylabel(\"Elbow (WCE)\")\n",
    "ax = plt.subplot(1, 2, 2)\n",
    "plt.plot(scores)\n",
    "plt.xticks(range(kmin, kmax, 2))\n",
    "ax.set_xlim(kmin, kmax)\n",
    "plt.xlabel(\"Qtd. Cluster\")\n",
    "plt.ylabel(\"Silhouette\")\n",
    "plt.tight_layout()\n",
    "plt.show()"
   ]
  },
  {
   "cell_type": "code",
   "execution_count": null,
   "metadata": {},
   "outputs": [],
   "source": [
    "kclusterer = KMeansClusterer(\n",
    "    qtd_cluster,\n",
    "    distance=cosine_distance,\n",
    "    repeats=30,\n",
    "    rng=0,\n",
    "    avoid_empty_clusters=True\n",
    ")\n",
    "assigned_clusters = kclusterer.cluster(X, assign_clusters=True)\n",
    "assigned_clusters = np.array(assigned_clusters).ravel()\n",
    "centroids = kclusterer.means()\n",
    "\n",
    "docs = np.asarray(X_train)\n",
    "\n",
    "info = []\n",
    "frases = []\n",
    "for i in range(qtd_cluster):\n",
    "    idx = np.where(assigned_clusters == i)[0]\n",
    "    for doc in docs[idx]:\n",
    "        frases.append([doc, i])\n",
    "    info.append([i, len(docs[idx])])\n",
    "\n",
    "df = pd.DataFrame(frases, columns=[\"perguntas\", \"cluster\"])\n",
    "df_inf = pd.DataFrame(np.c_[[f\"C{i}\" for i in range(qtd_cluster)], np.asarray(info)[:, 1]])\n",
    "\n",
    "print(\"Frases por cluster:\")\n",
    "T = df.to_numpy()\n",
    "index = np.random.choice(T.shape[0], 30, replace=False)\n",
    "display(HTML(df.loc[index].sort_values(by=[\"cluster\"]).to_html(index=False)))\n",
    "\n",
    "print(\"-\" * 20)\n",
    "print(\"Documentos por cluster:\")\n",
    "HTML(df_inf.to_html(index=False, header=False))"
   ]
  },
  {
   "cell_type": "code",
   "execution_count": null,
   "metadata": {},
   "outputs": [],
   "source": []
  }
 ],
 "metadata": {
  "kernelspec": {
   "display_name": "Python 3",
   "language": "python",
   "name": "python3"
  },
  "language_info": {
   "codemirror_mode": {
    "name": "ipython",
    "version": 3
   },
   "file_extension": ".py",
   "mimetype": "text/x-python",
   "name": "python",
   "nbconvert_exporter": "python",
   "pygments_lexer": "ipython3",
   "version": "3.7.3"
  }
 },
 "nbformat": 4,
 "nbformat_minor": 4
}
