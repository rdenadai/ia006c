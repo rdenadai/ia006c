{
 "cells": [
  {
   "cell_type": "markdown",
   "metadata": {},
   "source": [
    "https://newsapi.org/"
   ]
  },
  {
   "cell_type": "code",
   "execution_count": 1,
   "metadata": {},
   "outputs": [],
   "source": [
    "from concurrent.futures import ThreadPoolExecutor\n",
    "import requests\n",
    "from bs4 import BeautifulSoup\n",
    "import numpy as np"
   ]
  },
  {
   "cell_type": "code",
   "execution_count": 4,
   "metadata": {},
   "outputs": [],
   "source": [
    "def google_news_download(palavra):\n",
    "    url = f\"https://newsapi.org/v2/everything?q={palavra}&language=pt&from=2019-10-25&pageSize=100&sortBy=publishedAt&apiKey=c95ae50dc105420ba0263be38e60808c\"\n",
    "    r = requests.get(url)\n",
    "    if r.status_code == 200:\n",
    "        return r.json()\n",
    "    else:\n",
    "        return None\n",
    "\n",
    "resultado = None\n",
    "with ThreadPoolExecutor(max_workers=4) as exc:\n",
    "    palavras = [\n",
    "        \"bitcoin\", \"saúde\", \"política\",\n",
    "        \"ciência\", \"futebol\", \"tecnologia\",\n",
    "        \"google\", \"apple\", \"câncer\", \"preconceito\",\n",
    "        \"informação\", \"cinema\", \"guerra\", \"quadrinhos\",\n",
    "        \"amor\", \"economia\", \"negócio\"\n",
    "    ]\n",
    "    resultado = list(exc.map(google_news_download, palavras, chunksize=3))"
   ]
  },
  {
   "cell_type": "code",
   "execution_count": 5,
   "metadata": {},
   "outputs": [],
   "source": [
    "artigos = []\n",
    "for articles in resultado:\n",
    "    for article in articles[\"articles\"]:\n",
    "        titulo = article[\"title\"]\n",
    "        conteudo = article[\"content\"]\n",
    "        if titulo and conteudo:\n",
    "            titulo = titulo.replace(\"“\", '\"')\n",
    "            titulo = titulo.replace(\"”\", '\"')\n",
    "            for k in [\"\\r\\n\", \"\\xa0\", \"–\", ]:\n",
    "                titulo = titulo.replace(k, \"\")\n",
    "\n",
    "            conteudo = conteudo.split(\"…\")[0].strip()\n",
    "            for k in [\"\\r\\n\", \"\\xa0\", \"–\", ]:\n",
    "                conteudo = conteudo.replace(k, \"\")\n",
    "            conteudo = conteudo.replace(\"“\", '\"')\n",
    "            conteudo = conteudo.replace(\"”\", '\"')\n",
    "            soup = BeautifulSoup(conteudo)\n",
    "            conteudo = soup.get_text()\n",
    "            \n",
    "            artigos.append([titulo, conteudo])\n",
    "artigos = np.asarray(artigos)"
   ]
  },
  {
   "cell_type": "code",
   "execution_count": 6,
   "metadata": {},
   "outputs": [
    {
     "data": {
      "text/plain": [
       "(1673, 2)"
      ]
     },
     "execution_count": 6,
     "metadata": {},
     "output_type": "execute_result"
    }
   ],
   "source": [
    "artigos.shape"
   ]
  },
  {
   "cell_type": "code",
   "execution_count": 7,
   "metadata": {},
   "outputs": [
    {
     "data": {
      "text/plain": [
       "array([['Novembro está a ser negro para a Bitcoin, com o mercado em queda abrupta',\n",
       "        'A Bitcoin é a criptomoeda mais famosa do mundo e acaba por influenciar o ritmo do mercado das altcoins. O mês de novembro, especialmente esta última semana, está-se a revelar negro para esta divisa digital.Desde o início do mês, a Bitcoin já desvalorizou ce'],\n",
       "       ['Bitcoin Cash em foco',\n",
       "        'O Bitcoin Cash vem perdendo volume há alguns dias e sua cotação enfim acompanhou sua depressão (Imagem: Cryptowatch)O Bitcoin cash (BCH), iniciou uma tendência de alta no final de outubro, contudo o Bitcoin e levou todo o espectro das criptomoedas para o fu'],\n",
       "       ['Visão de mercado: Bitcoin e Tether',\n",
       "        'Até o momento, o Bitcoin (BTC) está sendo negociado a US$ 7.290,35 (-4.76%), com um volume diário confiável de US$ 9.53 bilhões. Quanto ao Tether (USDT), ele está sendo negociado a US$ 1.00 (-0.26%), com um volume diário confiável de US$ 10.46 bilhões.'],\n",
       "       ...,\n",
       "       ['Manoel Soares e o dinheiro na rede',\n",
       "        'Lembro como se fosse ontem de quando nasceram as mídias sociais. Uma galera que nunca tinha se mostrado, a partir daquele momento, poderia mostrar quem era ou queria ser. Minha foto de perfil do Orkut era do Predador, porque usava dreads e estava sempre mordi'],\n",
       "       ['Os níveis de smartificação e a coesão territorial',\n",
       "        'A estrutura orgânica do XXII governo constitucional integra um novo ministério, o Ministério da Coesão Territorial, e duas Secretarias de Estado, a do Desenvolvimento Regional e a da Valorização do Interior. Façamos, então, uma breve reflexão em redor da temá'],\n",
       "       ['Tensão pré-decisão',\n",
       "        'Por RAFA KLEINEnfermaria de hospital.Dois homens acomodados em macas, lado a lado, faziam um certo esforço pra assistir a pequena TV presa do outro lado da sala.O mais velho, aproveitando uma notícia sobre a alta do dólar, virou para o lado e falou entr']],\n",
       "      dtype='<U259')"
      ]
     },
     "execution_count": 7,
     "metadata": {},
     "output_type": "execute_result"
    }
   ],
   "source": [
    "artigos"
   ]
  },
  {
   "cell_type": "code",
   "execution_count": 8,
   "metadata": {},
   "outputs": [],
   "source": [
    "with open(\"../datasets/gnews.csv\", \"a+\") as fh:\n",
    "    for artigo in artigos:\n",
    "        fh.write(f\"{artigo[0]};{artigo[1]}\\n\")"
   ]
  },
  {
   "cell_type": "code",
   "execution_count": 9,
   "metadata": {},
   "outputs": [],
   "source": [
    "# conteudo = None\n",
    "# with open(\"../datasets/gnews.csv\", \"r\") as fh:\n",
    "#     soup = BeautifulSoup(fh.read())\n",
    "#     conteudo = soup.get_text()\n",
    "# with open(\"../datasets/gnews.csv\", \"w\") as fh:\n",
    "#     fh.write(conteudo)"
   ]
  },
  {
   "cell_type": "code",
   "execution_count": null,
   "metadata": {},
   "outputs": [],
   "source": []
  }
 ],
 "metadata": {
  "kernelspec": {
   "display_name": "Python 3",
   "language": "python",
   "name": "python3"
  },
  "language_info": {
   "codemirror_mode": {
    "name": "ipython",
    "version": 3
   },
   "file_extension": ".py",
   "mimetype": "text/x-python",
   "name": "python",
   "nbconvert_exporter": "python",
   "pygments_lexer": "ipython3",
   "version": "3.8.0"
  }
 },
 "nbformat": 4,
 "nbformat_minor": 4
}
