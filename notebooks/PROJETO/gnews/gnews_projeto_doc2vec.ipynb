{
 "cells": [
  {
   "cell_type": "code",
   "execution_count": 1,
   "metadata": {},
   "outputs": [],
   "source": [
    "import re\n",
    "import copy\n",
    "import uuid\n",
    "from unicodedata import normalize\n",
    "from string import punctuation\n",
    "import warnings\n",
    "from multiprocessing import cpu_count\n",
    "from concurrent.futures import ProcessPoolExecutor\n",
    "from functools import partial\n",
    "import numpy as np\n",
    "import pandas as pd\n",
    "import matplotlib.pyplot as plt\n",
    "from mpl_toolkits.mplot3d import Axes3D\n",
    "import seaborn as sns\n",
    "import spacy\n",
    "import nltk\n",
    "from nltk.corpus import machado, mac_morpho, floresta\n",
    "from nltk.cluster import KMeansClusterer\n",
    "from nltk.corpus import stopwords\n",
    "from nltk.cluster.util import cosine_distance, euclidean_distance\n",
    "from sklearn import utils\n",
    "from sklearn.model_selection import train_test_split\n",
    "from sklearn.metrics import homogeneity_score, completeness_score, silhouette_score, davies_bouldin_score\n",
    "from sklearn.metrics.pairwise import cosine_similarity\n",
    "from sklearn.feature_extraction.text import TfidfVectorizer, CountVectorizer\n",
    "from sklearn.manifold import MDS, TSNE, LocallyLinearEmbedding\n",
    "from sklearn.decomposition import NMF\n",
    "from sklearn.cluster import DBSCAN, OPTICS, KMeans\n",
    "from pyclustering.cluster.xmeans import xmeans, kmeans\n",
    "from pyclustering.cluster.center_initializer import kmeans_plusplus_initializer\n",
    "from pyclustering.cluster.elbow import elbow\n",
    "from pyclustering.cluster.silhouette import silhouette_ksearch_type, silhouette_ksearch\n",
    "from gensim.models.doc2vec import Doc2Vec, TaggedDocument\n",
    "from IPython.display import HTML\n",
    "\n",
    "pd.set_option('display.max_columns', None)  \n",
    "pd.set_option('display.expand_frame_repr', False)\n",
    "pd.set_option('max_colwidth', -1)\n",
    "\n",
    "warnings.filterwarnings('ignore')\n",
    "np.random.seed(123456)\n",
    "\n",
    "%matplotlib inline"
   ]
  },
  {
   "cell_type": "code",
   "execution_count": 2,
   "metadata": {},
   "outputs": [],
   "source": [
    "def remover_acentos(txt):\n",
    "    return normalize('NFKD', txt).encode('ASCII', 'ignore').decode('ASCII')\n",
    "\n",
    "def is_number(s):\n",
    "    try:\n",
    "        complex(s) # for int, long, float and complex\n",
    "    except ValueError:\n",
    "        return False\n",
    "    return True\n",
    "\n",
    "def tokenizer(phrase):\n",
    "    phrase = phrase.lower()\n",
    "    for o, r in RM:\n",
    "        phrase = re.sub(o, r, phrase, flags=re.MULTILINE)\n",
    "    phrase = re.sub(r'[\"\\'@#%\\(\\)]', \" \", phrase)\n",
    "    phrase = NLP(re.sub(r'[-+=:]', \"\", phrase), disable=[\"parser\"])\n",
    "    clean_frase = []\n",
    "    for palavra in phrase:\n",
    "        if palavra.pos_ != \"PUNCT\":\n",
    "            word = palavra.text.strip()\n",
    "            if not is_number(word) and word not in STOPWORDS and len(word) > 1:\n",
    "                # clean_frase += [STEMMER.stem(remover_acentos(palavra.lemma_))]\n",
    "                clean_frase += [remover_acentos(palavra.lemma_)]\n",
    "    return clean_frase\n",
    "\n",
    "def _get_stopwords():\n",
    "    stpwords = stopwords.words('portuguese') + list(punctuation)\n",
    "    rms = [\"um\", \"uma\", \"não\", \"mais\", \"muito\"]\n",
    "    for rm in rms:\n",
    "        del stpwords[stpwords.index(rm)]\n",
    "    return stpwords\n",
    "\n",
    "NLP = spacy.load(\"pt\")\n",
    "# STEMMER = nltk.stem.RSLPStemmer()\n",
    "STEMMER = nltk.stem.SnowballStemmer('portuguese')\n",
    "STOPWORDS = _get_stopwords()\n",
    "RM = [\n",
    "    ('\\n', '. '), ('\"', ''), ('@', ''),\n",
    "    ('#', ''), ('RT', ''), (r'(http[s]*?:\\/\\/)+.*[\\r\\n]*', '')\n",
    "]\n",
    "\n",
    "colors = np.asarray([\n",
    "    (230, 25, 75), (60, 180, 75), (255, 225, 25), (0, 130, 200), (245, 130, 48), (145, 30, 180), (70, 240, 240),\n",
    "    (240, 50, 230), (210, 245, 60), (250, 190, 190), (0, 128, 128), (230, 190, 255), (170, 110, 40), (255, 250, 200),\n",
    "    (128, 0, 0), (170, 255, 195), (128, 128, 0), (255, 215, 180), (0, 0, 128), (128, 128, 128), (0, 0, 0),\n",
    "    (141, 204, 226), (212, 50, 147), (251, 226, 93), (16, 185, 176), (189, 182, 163), (244, 172, 18), (100, 28, 112),\n",
    "    (165, 124, 92), (183, 160, 211), (66, 47, 105), (240, 67, 7) # , (244, 188, 198)\n",
    "]).astype(np.float32)\n",
    "\n",
    "colors /= 255.0"
   ]
  },
  {
   "cell_type": "code",
   "execution_count": 3,
   "metadata": {},
   "outputs": [
    {
     "data": {
      "text/html": [
       "<table border=\"1\" class=\"dataframe\">\n",
       "  <thead>\n",
       "    <tr style=\"text-align: right;\">\n",
       "      <th>title</th>\n",
       "      <th>description</th>\n",
       "    </tr>\n",
       "  </thead>\n",
       "  <tbody>\n",
       "    <tr>\n",
       "      <td>#VazaJato: Moro não seguiu padrão da Lava Jato ao divulgar conversas de Lula</td>\n",
       "      <td>Mensagens obtidas pelo The Intercept Brasil e divulgadas neste domingo (24) pelo jornal Folha de S.Paulo mostram que o ministro da Justiça e então juiz federal, Sergio Moro, não seguiu o padrão da operação Lava Jato ao retirar o sigilo das investigações</td>\n",
       "    </tr>\n",
       "    <tr>\n",
       "      <td>BE pressiona Governo com redução do IVA na eletricidade. PSD também quer. Mas descarta nova coligação negativa</td>\n",
       "      <td>O Bloco de Esquerda vai mesmo insistir com a proposta de redução do IVA na eletricidade e mesmo que o governo não ceda, a questão pode vir a colocar-se no plano parlamentar. Tanto o Bloco de Esquerda como o PSD inscreveram no programa eleitoral para as legisl</td>\n",
       "    </tr>\n",
       "    <tr>\n",
       "      <td>Bitcoin em foco</td>\n",
       "      <td>O Bitcoin se encontra numa faixa de não compra ou venda. Convém esperar os próximos movimentos (Imagem: Pixabay)Há apenas algumas semanas, o preço do Bitcoin passou por um aumento que não víamos desde 2011  aumentou mais de 40% em um dia, chegando a US$ 10</td>\n",
       "    </tr>\n",
       "    <tr>\n",
       "      <td>Crime na cidade da Praia: Um homem morto a tiro e um ferido perto da capital cabo-verdiana</td>\n",
       "      <td>Um homem com cerca de 50 anos foi este sábado morto a tiro e outro ficou ferido, no município cabo-verdiano de São Domingos, a cerca de 10 quilómetros da cidade da Praia, segundo informação da Polícia Judiciária cabo-verdiana.Em comunicado, aquela força pol</td>\n",
       "    </tr>\n",
       "    <tr>\n",
       "      <td>Dica: Configurar as novas opções das permissões de localização do Android 10</td>\n",
       "      <td>O Android 10 trouxe várias novidades, mas ficou-se principalmente na segurança dos utilizadores. Para isso tem novas permissões e novas opções que podem ser decerto usadas pelos utilizadores.Uma delas não é de imediato visível, mas pode ser explorada e apro</td>\n",
       "    </tr>\n",
       "    <tr>\n",
       "      <td>Em súmula, árbitro diz que 'não observou injúria racial' contra goleiro do Flamengo</td>\n",
       "      <td>O árbitro Thiago Dias Paes Raimundo relatou na súmula não ter observado injúrias raciais contra o goleiro Hugo Souza, do Flamengo, já na parte final da decisão do Campeonato Carioca sub-20, na última quarta-feira, em São Januário. Nos acréscimos da partida, o</td>\n",
       "    </tr>\n",
       "    <tr>\n",
       "      <td>Evidência</td>\n",
       "      <td>Racismo estruturalO racismo existe e é inegável. Segundo o dr. Osvaldo Mariotto Cerezer, docente na Unemat, uma das formas de enfrentar este problema social é reconhecer que a história afro-brasileira é parte da história do Brasil. Ele acredita que, a parti</td>\n",
       "    </tr>\n",
       "    <tr>\n",
       "      <td>Fantasias originais da série de TV de Batman e Robin serão leiloadas</td>\n",
       "      <td>Um par de figurinos de Batman e Robin, descritos como as únicas fantasias completas usadas no programa de televisão dos anos 1060, está sendo leiloado em Los Angeles, e o proprietário está determinado em fazer com que seus heróis de quadrinhos de infância fiq</td>\n",
       "    </tr>\n",
       "    <tr>\n",
       "      <td>Os melhores lançamentos de filmes e séries para assistir online (15/11 a 22/11)</td>\n",
       "      <td>O fim de semana chegou e como estamos quase no fim do mês de novembro, é possível que a grana esteja curta. Sem poder esbanjar nos rolês, muita gente opta por ficar em casa para assistir a um bom filme ou série. Se essa é a sua realidade, calma, não se desesp</td>\n",
       "    </tr>\n",
       "    <tr>\n",
       "      <td>Sem-abrigo: Lisboa quer que todos tenham um teto em dois anos</td>\n",
       "      <td>A Câmara de Lisboa está a preparar propostas individuais para, nos próximos dois anos, conseguir realojar os 361 sem-abrigo que vivem nas ruas da cidade, disse o vereador dos Direitos Sociais, Manuel Grilo.O presidente da República pediu uma solução naciona</td>\n",
       "    </tr>\n",
       "  </tbody>\n",
       "</table>"
      ],
      "text/plain": [
       "<IPython.core.display.HTML object>"
      ]
     },
     "metadata": {},
     "output_type": "display_data"
    }
   ],
   "source": [
    "df_data = pd.read_csv(\"gnews.csv\", sep=';', names=[\"title\", \"description\"])\n",
    "df_data.dropna(inplace=True)\n",
    "\n",
    "T = df_data.to_numpy()\n",
    "index = np.random.choice(T.shape[0], 10, replace=False)\n",
    "display(HTML(df_data.iloc[index].sort_values(by=[\"title\"]).to_html(index=False)))"
   ]
  },
  {
   "cell_type": "code",
   "execution_count": 4,
   "metadata": {},
   "outputs": [
    {
     "name": "stdout",
     "output_type": "stream",
     "text": [
      "Tokenization...\n",
      "Qtd documentos treino:  3099\n",
      "Finished...\n"
     ]
    }
   ],
   "source": [
    "def doc2token(doc):\n",
    "    if isinstance(doc, list):\n",
    "        doc = \" \".join(doc)\n",
    "    return TaggedDocument(tokenizer(doc), [str(uuid.uuid4())])\n",
    "\n",
    "print(\"Tokenization...\")\n",
    "docs = set(df_data[\"description\"])\n",
    "with ProcessPoolExecutor(max_workers=cpu_count()) as exc:\n",
    "    documents_d2c = list(exc.map(doc2token, docs, chunksize=100))\n",
    "print(\"Qtd documentos treino: \", len(documents_d2c))\n",
    "print(\"Finished...\")"
   ]
  },
  {
   "cell_type": "code",
   "execution_count": 5,
   "metadata": {},
   "outputs": [
    {
     "data": {
      "text/plain": [
       "[TaggedDocument(words=['marco', 'correa', 'pr', 'paulo', 'dia', 'prometer', 'ser', 'forte', 'emocao', 'promessa', 'novo', 'alto', 'bolsar', 'mundial', 'segundar', 'financial', 'times', 'estar', 'unir', 'dever', 'remover', 'tarifar', 'bilionario', 'sobrar', 'mercadoria', 'importar', 'chino', 'selar', 'primeiro', 'fas'], tags=['fb01e3c6-a332-4854-af32-7ee797ce9927']),\n",
       " TaggedDocument(words=['ministerio', 'publico', 'frances', 'pedir', 'ano', 'prisao', 'umar', 'mae', 'partir', 'sirio', 'companheiro', 'quatro', 'filho', 'menor', 'integrar', 'fileira', 'grupar', 'extremista', 'estar', 'islamico.jihane', 'makhzoumi', 'ano', 'ser', 'julgar'], tags=['b9891da0-95db-4a83-9e1f-d02c03521370']),\n",
       " TaggedDocument(words=['usar', 'dar', 'coletados', 'sondar', 'cassini', 'nasa', 'cientista', 'compilar', 'primeiro', 'mapa', 'geologico', 'global', 'enigmatico', 'lua', 'tita', 'saturno', 'novo', 'mapa', 'revelar', 'um', 'mundo', 'familiar', 'completamente', 'estranhar', 'tempo.uma', 'novo', 'pesquisar', 'public'], tags=['e3e43bde-390f-48b9-8f11-8b373c887f02']),\n",
       " TaggedDocument(words=['rabino', 'henry', 'sobel', 'destacar', 'figurar', 'ativa', 'defeso', 'direito', 'humano', 'brasil', 'falecer', 'manha', 'sextafeira', 'ano', 'miami', 'estar', 'unir', 'acordar', 'informacao', 'divulgar', 'representante', 'morte', 'subir'], tags=['6f97b386-3e3c-42cf-b7b7-8e66a0e38eaa']),\n",
       " TaggedDocument(words=['direito', 'imagemepaimage', 'caption', 'militar', 'operacao', 'garantir', 'lei', 'ordem', 'rir', 'janeiroo', 'presidente', 'jair', 'bolsonaro', 'enviar', 'congresso', 'um', 'projeto', 'lei', 'determinar', 'norma', 'valer', 'militar', 'membro', 'forcar', 'seguranca', 'quan'], tags=['582f7bf8-46dd-4d1f-a2c2-41cc7d901404']),\n",
       " TaggedDocument(words=['apontar', 'compromisso', 'geral', 'todo', 'relativamente', 'objetivos', 'fundamentar', 'continuar', 'apostar', 'crescimento', 'economico', 'melhorar', 'rendimento', 'familia', 'criar', 'bom', 'condicao', 'empresar', 'poder', 'continuar', 'investir', 'criar', 'mais'], tags=['aacdbb1d-bc73-43a6-a297-83c5c2ce9164']),\n",
       " TaggedDocument(words=['primeiroministro', 'britanico', 'bori', 'johnson', 'prometer', 'recrutar', 'enfermeiro', 'sistema', 'nacional', 'saudar', 'durante', 'apresentacao', 'hoje', 'programar', 'partir', 'conservador', 'eleicao', 'legislativo', 'dezembro.a', 'medir', 'alcancar', 'graca'], tags=['4d30a398-4971-4011-910c-a51d20dc5617']),\n",
       " TaggedDocument(words=['paulo', 'francis', 'dizer', 'cada', 'jornal', 'menos', 'critico', 'cinema', 'mudar', 'hoje', 'todo', 'mundo', 'critico', 'cinema', 'brincadeira', 'partir', 'critico', 'cinema', 'patropi', 'um', 'grau', 'excelencia', 'raro', 'folhar', 's.', 'paulo', 'publicar', 'um', 'texto', 'times', 'sobrar'], tags=['9da3a7ff-7e3f-4713-ab12-30b2a89179ae']),\n",
       " TaggedDocument(words=['antigo', 'presidente', 'brasil', 'luiz', 'inacio', 'lula', 'silvar', 'reiterar', 'sabado', 'durante', 'primeiro', 'dia', 'congresso', 'nacional', 'partir', 'trabalhador', 'oposicao', 'reeleicao', 'lider', 'politico', 'evitar', 'existencia', 'um', 'pequeno', 'ditador.na', 'caber'], tags=['63bc55bf-816e-40e5-8a60-34b0ddd142c2']),\n",
       " TaggedDocument(words=['dow', 'jones', 'encerrar', 'somar', '0,39', '27.875,62', 'ponto', 'ter', 'marcar', 'um', 'maximo', 'historico', '28.090,21', 'ponto', 'sessao', 'tercafeira.ja', 's&p', 'avancar', '0,22', '3.110,29', 'ponto', 'apos', 'ter', 'estabelecer', 'dia', 'negociacao', 'intrad'], tags=['bb7ae95f-990d-4dff-82c9-299c17197f24'])]"
      ]
     },
     "execution_count": 5,
     "metadata": {},
     "output_type": "execute_result"
    }
   ],
   "source": [
    "documents_d2c[:10]"
   ]
  },
  {
   "cell_type": "code",
   "execution_count": 6,
   "metadata": {},
   "outputs": [
    {
     "name": "stdout",
     "output_type": "stream",
     "text": [
      "building vocab...\n",
      "Adding machado...\n",
      "Adding mac_morpho...\n",
      "Adding floresta...\n",
      "finish...\n"
     ]
    }
   ],
   "source": [
    "print(\"building vocab...\")\n",
    "vocab = copy.deepcopy(documents_d2c)\n",
    "with ProcessPoolExecutor(max_workers=cpu_count()) as exc:\n",
    "    print(\"Adding machado...\")\n",
    "    vocab += list(exc.map(doc2token, utils.shuffle(machado.sents(), n_samples=4000), chunksize=100))\n",
    "    print(\"Adding mac_morpho...\")\n",
    "    vocab += list(exc.map(doc2token, utils.shuffle(mac_morpho.sents(), n_samples=4000), chunksize=100))\n",
    "    print(\"Adding floresta...\")\n",
    "    vocab += list(exc.map(doc2token, utils.shuffle(floresta.sents(), n_samples=4000), chunksize=100))\n",
    "print(\"finish...\")"
   ]
  },
  {
   "cell_type": "code",
   "execution_count": 7,
   "metadata": {},
   "outputs": [
    {
     "data": {
      "text/plain": [
       "15099"
      ]
     },
     "execution_count": 7,
     "metadata": {},
     "output_type": "execute_result"
    }
   ],
   "source": [
    "len(vocab)"
   ]
  },
  {
   "cell_type": "code",
   "execution_count": 8,
   "metadata": {},
   "outputs": [
    {
     "name": "stdout",
     "output_type": "stream",
     "text": [
      "Dimensions   : 1000\n",
      "Epochs       : 200\n",
      "Infer Epochs : 15000\n"
     ]
    }
   ],
   "source": [
    "dim = 1000\n",
    "epochs = 200\n",
    "M = 15000\n",
    "\n",
    "print(f\"Dimensions   : {dim}\")\n",
    "print(f\"Epochs       : {epochs}\")\n",
    "print(f\"Infer Epochs : {M}\")"
   ]
  },
  {
   "cell_type": "code",
   "execution_count": 9,
   "metadata": {},
   "outputs": [
    {
     "name": "stdout",
     "output_type": "stream",
     "text": [
      "DBOW: Building vocab...\n",
      "DBOW: Training...\n",
      "DMM: Building vocab...\n",
      "DMM: Training...\n",
      "Finish...\n"
     ]
    }
   ],
   "source": [
    "# print(\"Starting model...\")\n",
    "# common_kwargs = dict(\n",
    "#     dm=0, vector_size=dim, epochs=epochs, workers=cpu_count(), \n",
    "#     window=10, min_count=2, alpha=1e-2, min_alpha=1e-4,\n",
    "#     hs=1, negative=7, dbow_words=1, sample=0\n",
    "# )\n",
    "# d2v = Doc2Vec(**common_kwargs)\n",
    "# print(\"Building vocab...\")\n",
    "# d2v.build_vocab(vocab)\n",
    "# print(\"Training...\")\n",
    "# d2v.train(\n",
    "#     documents_d2c,\n",
    "#     total_examples=d2v.corpus_count,\n",
    "#     epochs=d2v.epochs\n",
    "# )\n",
    "# print(\"Finish...\")\n",
    "\n",
    "\n",
    "from gensim.test.test_doc2vec import ConcatenatedDoc2Vec\n",
    "\n",
    "\n",
    "common_kwargs = dict(\n",
    "    dm=0, vector_size=dim, epochs=epochs, workers=cpu_count(), \n",
    "    window=10, min_count=2, alpha=1e-2, min_alpha=1e-4,\n",
    "    hs=1, negative=7, dbow_words=1, sample=0\n",
    ")\n",
    "dbow = Doc2Vec(**common_kwargs)\n",
    "print(\"DBOW: Building vocab...\")\n",
    "dbow.build_vocab(vocab)\n",
    "print(\"DBOW: Training...\")\n",
    "dbow.train(\n",
    "    documents_d2c,\n",
    "    total_examples=dbow.corpus_count,\n",
    "    epochs=dbow.epochs\n",
    ")\n",
    "\n",
    "common_kwargs = dict(\n",
    "    dm=1, vector_size=dim, epochs=epochs, workers=cpu_count(), \n",
    "    window=10, min_count=2, alpha=1e-2, min_alpha=1e-4,\n",
    "    hs=1, negative=7, dbow_words=1, sample=0\n",
    ")\n",
    "dmm = Doc2Vec(**common_kwargs)\n",
    "print(\"DMM: Building vocab...\")\n",
    "dmm.build_vocab(vocab)\n",
    "print(\"DMM: Training...\")\n",
    "dmm.train(\n",
    "    documents_d2c,\n",
    "    total_examples=dmm.corpus_count,\n",
    "    epochs=dmm.epochs\n",
    ")\n",
    "\n",
    "d2v = ConcatenatedDoc2Vec([dbow, dmm])\n",
    "\n",
    "print(\"Finish...\")"
   ]
  },
  {
   "cell_type": "code",
   "execution_count": 10,
   "metadata": {},
   "outputs": [],
   "source": [
    "# X = d2v.docvecs.vectors_docs\n",
    "# print(X.shape)"
   ]
  },
  {
   "cell_type": "code",
   "execution_count": 11,
   "metadata": {},
   "outputs": [
    {
     "name": "stdout",
     "output_type": "stream",
     "text": [
      "(3099, 2000)\n"
     ]
    }
   ],
   "source": [
    "def get_doc_vector(doc):\n",
    "    return d2v.docvecs[doc.tags[0]]\n",
    "\n",
    "X = []\n",
    "with ProcessPoolExecutor(max_workers=cpu_count()) as exc:\n",
    "    X = list(exc.map(get_doc_vector, documents_d2c, chunksize=100))\n",
    "X = np.asarray(X)\n",
    "print(X.shape)"
   ]
  },
  {
   "cell_type": "code",
   "execution_count": 12,
   "metadata": {},
   "outputs": [
    {
     "name": "stdout",
     "output_type": "stream",
     "text": [
      "Running Elbow...\n",
      "Running Silhouette...\n",
      "N. Elbow      Cluster :  21\n",
      "N. Silhouette Cluster :  11\n"
     ]
    }
   ],
   "source": [
    "def calculate_silhouette_metric(X, K):\n",
    "    km_ = KMeansClusterer(\n",
    "        K, distance=cosine_distance,\n",
    "        repeats=10,\n",
    "        avoid_empty_clusters=True\n",
    "    )\n",
    "    assigned_clusters_ = np.array(km_.cluster(X, assign_clusters=True)).ravel()\n",
    "    centroids = km_.means()\n",
    "    sh_score = silhouette_score(X, assigned_clusters_, metric='cosine', random_state=0)\n",
    "    return [len(centroids), sh_score]\n",
    "\n",
    "kmin = 10\n",
    "kmax = int(np.ceil((X.shape[0] * 0.1)))\n",
    "kmax = 30 if kmax > 30 else kmax\n",
    "\n",
    "print(\"Running Elbow...\")\n",
    "elbow_error = []\n",
    "elbow_amount_clusters = 2\n",
    "elbow_cosine_distance = np.copy(1 - cosine_similarity(X))\n",
    "for _ in range(5):\n",
    "    elbow_instance = elbow(elbow_cosine_distance, kmin, kmax + 1)\n",
    "    elbow_instance.process()\n",
    "    amc = elbow_instance.get_amount()\n",
    "    if amc > elbow_amount_clusters:\n",
    "        elbow_amount_clusters = amc\n",
    "        elbow_error = elbow_instance.get_wce()\n",
    "\n",
    "print(\"Running Silhouette...\")\n",
    "\n",
    "scores = []\n",
    "silhouette_amount_clusters = 0\n",
    "with ProcessPoolExecutor(max_workers=cpu_count()) as exc:\n",
    "    silhouette = np.asarray(list(exc.map(partial(calculate_silhouette_metric, X), range(kmin, kmax + 1), chunksize=5)))\n",
    "    amount, silhouette_scores = silhouette[:, 0], silhouette[:, 1]\n",
    "    silhouette_scores[np.isnan(silhouette_scores)] = -1\n",
    "    silhouette_amount_clusters = int(amount[np.where(silhouette_scores == np.max(silhouette_scores))][0])\n",
    "\n",
    "print(\"N. Elbow      Cluster : \", elbow_amount_clusters)\n",
    "print(\"N. Silhouette Cluster : \", silhouette_amount_clusters)\n",
    "qtd_cluster = elbow_amount_clusters if elbow_amount_clusters > silhouette_amount_clusters else silhouette_amount_clusters"
   ]
  },
  {
   "cell_type": "code",
   "execution_count": 13,
   "metadata": {},
   "outputs": [
    {
     "data": {
      "image/png": "[encoded data removed]",
      "text/plain": [
       "<Figure size 1008x360 with 2 Axes>"
      ]
     },
     "metadata": {
      "needs_background": "light"
     },
     "output_type": "display_data"
    }
   ],
   "source": [
    "plt.figure(figsize=(14, 5))\n",
    "ax = plt.subplot(1, 2, 1)\n",
    "plt.plot(elbow_error)\n",
    "# plt.xticks(range(kmin, elbow_amount_clusters, 1))\n",
    "# ax.set_xlim(kmin, elbow_amount_clusters)\n",
    "plt.xlabel(\"Qtd. Cluster\")\n",
    "plt.ylabel(\"Elbow (WCE)\")\n",
    "ax = plt.subplot(1, 2, 2)\n",
    "plt.plot(silhouette_scores)\n",
    "# plt.xticks(range(kmin, kmax, 2))\n",
    "# ax.set_xlim(kmin, kmax)\n",
    "plt.xlabel(\"Qtd. Cluster\")\n",
    "plt.ylabel(\"Silhouette\")\n",
    "plt.tight_layout()\n",
    "plt.show()"
   ]
  },
  {
   "cell_type": "code",
   "execution_count": 14,
   "metadata": {},
   "outputs": [],
   "source": [
    "kclusterer = KMeansClusterer(\n",
    "    qtd_cluster,\n",
    "    distance=cosine_distance,\n",
    "    repeats=30,\n",
    "    avoid_empty_clusters=True\n",
    ")\n",
    "assigned_clusters = kclusterer.cluster(X, assign_clusters=True)\n",
    "assigned_clusters = np.array(assigned_clusters).ravel()\n",
    "centroids = kclusterer.means()"
   ]
  },
  {
   "cell_type": "code",
   "execution_count": 15,
   "metadata": {},
   "outputs": [
    {
     "name": "stdout",
     "output_type": "stream",
     "text": [
      "Documentos por cluster:\n"
     ]
    },
    {
     "data": {
      "text/html": [
       "<table border=\"1\" class=\"dataframe\">\n",
       "  <thead>\n",
       "    <tr style=\"text-align: right;\">\n",
       "      <th>title</th>\n",
       "      <th>cluster</th>\n",
       "    </tr>\n",
       "  </thead>\n",
       "  <tbody>\n",
       "    <tr>\n",
       "      <td>Gabigol e Enzo, Diego Alves e Armani: as estrelas da final da Libertadores</td>\n",
       "      <td>0</td>\n",
       "    </tr>\n",
       "    <tr>\n",
       "      <td>Consciência Negra nas escolas: como falar sobre o assunto ajuda na formação de jovens negros</td>\n",
       "      <td>1</td>\n",
       "    </tr>\n",
       "    <tr>\n",
       "      <td>Assista ao teaser | Maísa chora ao receber Luan Santana em seu programa</td>\n",
       "      <td>1</td>\n",
       "    </tr>\n",
       "    <tr>\n",
       "      <td>César, Louçã, Domingos Abrantes, Rui Rio e Pinto Balsemão eleitos para o Conselho de Estado</td>\n",
       "      <td>2</td>\n",
       "    </tr>\n",
       "    <tr>\n",
       "      <td>Preciso, América-MG vence o Guarani fora de casa e depende apenas de si para voltar à Série A</td>\n",
       "      <td>3</td>\n",
       "    </tr>\n",
       "    <tr>\n",
       "      <td>Aumenta o caos político em Israel</td>\n",
       "      <td>3</td>\n",
       "    </tr>\n",
       "    <tr>\n",
       "      <td>V-Wars | Netflix divulga pôster oficial da série</td>\n",
       "      <td>4</td>\n",
       "    </tr>\n",
       "    <tr>\n",
       "      <td>Theatro Municipal | Fernanda Montenegro é ovacionada em SP</td>\n",
       "      <td>5</td>\n",
       "    </tr>\n",
       "    <tr>\n",
       "      <td>As notícias das 16h</td>\n",
       "      <td>6</td>\n",
       "    </tr>\n",
       "    <tr>\n",
       "      <td>Emprego verde amarelo | Ciee, que cuida de emprego de jovem, critica programa do governo e dá opção</td>\n",
       "      <td>8</td>\n",
       "    </tr>\n",
       "    <tr>\n",
       "      <td>Bolsas de NY caem com cautela sobre acordo EUA-China e notícias conflitantes</td>\n",
       "      <td>8</td>\n",
       "    </tr>\n",
       "    <tr>\n",
       "      <td>Consciência Negra | Política, saúde, afetividade, religião</td>\n",
       "      <td>8</td>\n",
       "    </tr>\n",
       "    <tr>\n",
       "      <td>Marighella #LIVRE e a história do inimigo público número 1 que virou quadrinhos</td>\n",
       "      <td>8</td>\n",
       "    </tr>\n",
       "    <tr>\n",
       "      <td>[CRÍTICA] O Irlandês  Scorsese reflete sobre envelhecimento e culpa em filme um tanto longo demais!</td>\n",
       "      <td>9</td>\n",
       "    </tr>\n",
       "    <tr>\n",
       "      <td>Google Earth lança recurso para usuários criarem seus próprios mapas e histórias</td>\n",
       "      <td>9</td>\n",
       "    </tr>\n",
       "    <tr>\n",
       "      <td>Revisões do PIB empurram China para meta de dobrar economia, mas persistem dúvidas sobre dados</td>\n",
       "      <td>9</td>\n",
       "    </tr>\n",
       "    <tr>\n",
       "      <td>Arcos Dorados anuncia parceria com UBQ para uso de materiais reciclados</td>\n",
       "      <td>10</td>\n",
       "    </tr>\n",
       "    <tr>\n",
       "      <td>Dia da consciência negra: 10 nomes que marcaram o ramo da tecnologia</td>\n",
       "      <td>11</td>\n",
       "    </tr>\n",
       "    <tr>\n",
       "      <td>Ucrânia diz que Taison tinha que ser responsabilizado por reação a ofensa</td>\n",
       "      <td>11</td>\n",
       "    </tr>\n",
       "    <tr>\n",
       "      <td>Após especulação | Guardiola exalta Bayern, mas afirma que quer continuar no City</td>\n",
       "      <td>12</td>\n",
       "    </tr>\n",
       "    <tr>\n",
       "      <td>É oficial: João Almeida é candidato à liderança do CDS</td>\n",
       "      <td>13</td>\n",
       "    </tr>\n",
       "    <tr>\n",
       "      <td>Oposição pede renúncia de presidente de Moçambique</td>\n",
       "      <td>14</td>\n",
       "    </tr>\n",
       "    <tr>\n",
       "      <td>CDS pede medidas concretas e permanentes contra a seca</td>\n",
       "      <td>14</td>\n",
       "    </tr>\n",
       "    <tr>\n",
       "      <td>Mel Maia elege look moderno para festa da novela com Paolla Oliveira e famosos</td>\n",
       "      <td>14</td>\n",
       "    </tr>\n",
       "    <tr>\n",
       "      <td>Meio-pesados | Jones defende cinturão contra Reyes no UFC 247, diz site</td>\n",
       "      <td>15</td>\n",
       "    </tr>\n",
       "    <tr>\n",
       "      <td>Digio oferece condições especiais para Black Friday</td>\n",
       "      <td>18</td>\n",
       "    </tr>\n",
       "    <tr>\n",
       "      <td>Salvar o SNS através da sua extinção</td>\n",
       "      <td>18</td>\n",
       "    </tr>\n",
       "    <tr>\n",
       "      <td>Ajuste secreto: Hermínio Loureiro suspende funções na federação</td>\n",
       "      <td>19</td>\n",
       "    </tr>\n",
       "    <tr>\n",
       "      <td>Dermatologistas oferecem exame preventivo de câncer de pele</td>\n",
       "      <td>19</td>\n",
       "    </tr>\n",
       "    <tr>\n",
       "      <td>Coréia do Sul fica sem vermífugo para cães porque as pessoas pensam que cura o câncer</td>\n",
       "      <td>19</td>\n",
       "    </tr>\n",
       "  </tbody>\n",
       "</table>"
      ],
      "text/plain": [
       "<IPython.core.display.HTML object>"
      ]
     },
     "metadata": {},
     "output_type": "display_data"
    },
    {
     "name": "stdout",
     "output_type": "stream",
     "text": [
      "--------------------\n",
      "Documentos por cluster:\n"
     ]
    },
    {
     "data": {
      "text/html": [
       "<table border=\"1\" class=\"dataframe\">\n",
       "  <tbody>\n",
       "    <tr>\n",
       "      <td>C0</td>\n",
       "      <td>140</td>\n",
       "    </tr>\n",
       "    <tr>\n",
       "      <td>C1</td>\n",
       "      <td>143</td>\n",
       "    </tr>\n",
       "    <tr>\n",
       "      <td>C2</td>\n",
       "      <td>156</td>\n",
       "    </tr>\n",
       "    <tr>\n",
       "      <td>C3</td>\n",
       "      <td>140</td>\n",
       "    </tr>\n",
       "    <tr>\n",
       "      <td>C4</td>\n",
       "      <td>156</td>\n",
       "    </tr>\n",
       "    <tr>\n",
       "      <td>C5</td>\n",
       "      <td>127</td>\n",
       "    </tr>\n",
       "    <tr>\n",
       "      <td>C6</td>\n",
       "      <td>140</td>\n",
       "    </tr>\n",
       "    <tr>\n",
       "      <td>C7</td>\n",
       "      <td>136</td>\n",
       "    </tr>\n",
       "    <tr>\n",
       "      <td>C8</td>\n",
       "      <td>142</td>\n",
       "    </tr>\n",
       "    <tr>\n",
       "      <td>C9</td>\n",
       "      <td>164</td>\n",
       "    </tr>\n",
       "    <tr>\n",
       "      <td>C10</td>\n",
       "      <td>122</td>\n",
       "    </tr>\n",
       "    <tr>\n",
       "      <td>C11</td>\n",
       "      <td>150</td>\n",
       "    </tr>\n",
       "    <tr>\n",
       "      <td>C12</td>\n",
       "      <td>157</td>\n",
       "    </tr>\n",
       "    <tr>\n",
       "      <td>C13</td>\n",
       "      <td>151</td>\n",
       "    </tr>\n",
       "    <tr>\n",
       "      <td>C14</td>\n",
       "      <td>128</td>\n",
       "    </tr>\n",
       "    <tr>\n",
       "      <td>C15</td>\n",
       "      <td>177</td>\n",
       "    </tr>\n",
       "    <tr>\n",
       "      <td>C16</td>\n",
       "      <td>152</td>\n",
       "    </tr>\n",
       "    <tr>\n",
       "      <td>C17</td>\n",
       "      <td>157</td>\n",
       "    </tr>\n",
       "    <tr>\n",
       "      <td>C18</td>\n",
       "      <td>153</td>\n",
       "    </tr>\n",
       "    <tr>\n",
       "      <td>C19</td>\n",
       "      <td>153</td>\n",
       "    </tr>\n",
       "    <tr>\n",
       "      <td>C20</td>\n",
       "      <td>155</td>\n",
       "    </tr>\n",
       "  </tbody>\n",
       "</table>"
      ],
      "text/plain": [
       "<IPython.core.display.HTML object>"
      ]
     },
     "execution_count": 15,
     "metadata": {},
     "output_type": "execute_result"
    }
   ],
   "source": [
    "docs = np.asarray(df_data[\"title\"])\n",
    "\n",
    "info = []\n",
    "frases = []\n",
    "for i in range(qtd_cluster):\n",
    "    idx = np.where(assigned_clusters == i)[0]\n",
    "    for doc in docs[idx]:\n",
    "        frases.append([doc, i])\n",
    "    info.append([i, len(docs[idx])])\n",
    "\n",
    "df = pd.DataFrame(frases, columns=[\"title\", \"cluster\"])\n",
    "df_inf = pd.DataFrame(np.c_[[f\"C{i}\" for i in range(qtd_cluster)], np.asarray(info)[:, 1]])\n",
    "\n",
    "print(\"Documentos por cluster:\")\n",
    "T = df.to_numpy()\n",
    "index = np.random.choice(T.shape[0], 30, replace=False)\n",
    "display(HTML(df.loc[index].sort_values(by=[\"cluster\"]).to_html(index=False)))\n",
    "\n",
    "print(\"-\" * 20)\n",
    "print(\"Documentos por cluster:\")\n",
    "HTML(df_inf.to_html(index=False, header=False))"
   ]
  },
  {
   "cell_type": "code",
   "execution_count": null,
   "metadata": {},
   "outputs": [],
   "source": []
  }
 ],
 "metadata": {
  "kernelspec": {
   "display_name": "Python 3",
   "language": "python",
   "name": "python3"
  },
  "language_info": {
   "codemirror_mode": {
    "name": "ipython",
    "version": 3
   },
   "file_extension": ".py",
   "mimetype": "text/x-python",
   "name": "python",
   "nbconvert_exporter": "python",
   "pygments_lexer": "ipython3",
   "version": "3.7.3"
  }
 },
 "nbformat": 4,
 "nbformat_minor": 4
}
