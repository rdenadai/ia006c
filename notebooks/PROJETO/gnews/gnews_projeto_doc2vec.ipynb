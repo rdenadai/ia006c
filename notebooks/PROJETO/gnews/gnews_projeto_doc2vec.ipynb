{
 "cells": [
  {
   "cell_type": "code",
   "execution_count": null,
   "metadata": {},
   "outputs": [],
   "source": [
    "import re\n",
    "import uuid\n",
    "from unicodedata import normalize\n",
    "from string import punctuation\n",
    "import warnings\n",
    "from multiprocessing import cpu_count\n",
    "from concurrent.futures import ProcessPoolExecutor\n",
    "from functools import partial\n",
    "import numpy as np\n",
    "import pandas as pd\n",
    "import matplotlib.pyplot as plt\n",
    "from mpl_toolkits.mplot3d import Axes3D\n",
    "import seaborn as sns\n",
    "import spacy\n",
    "import nltk\n",
    "from nltk.cluster import KMeansClusterer\n",
    "from nltk.corpus import stopwords\n",
    "from nltk.cluster.util import cosine_distance\n",
    "from sklearn import utils\n",
    "from sklearn.model_selection import train_test_split\n",
    "from sklearn.metrics import homogeneity_score, completeness_score, silhouette_score, davies_bouldin_score\n",
    "from sklearn.metrics.pairwise import cosine_similarity\n",
    "from sklearn.feature_extraction.text import TfidfVectorizer, CountVectorizer\n",
    "from sklearn.manifold import MDS, TSNE, LocallyLinearEmbedding\n",
    "from sklearn.decomposition import NMF\n",
    "from sklearn.cluster import DBSCAN, OPTICS, KMeans\n",
    "from pyclustering.cluster.xmeans import xmeans, kmeans\n",
    "from pyclustering.cluster.center_initializer import kmeans_plusplus_initializer\n",
    "from pyclustering.cluster.elbow import elbow\n",
    "from pyclustering.cluster.silhouette import silhouette_ksearch_type, silhouette_ksearch\n",
    "from gensim.models.doc2vec import Doc2Vec, TaggedDocument\n",
    "from IPython.display import HTML\n",
    "\n",
    "pd.set_option('display.max_columns', None)  \n",
    "pd.set_option('display.expand_frame_repr', False)\n",
    "pd.set_option('max_colwidth', -1)\n",
    "\n",
    "warnings.filterwarnings('ignore')\n",
    "np.random.seed(123456)\n",
    "\n",
    "%matplotlib inline"
   ]
  },
  {
   "cell_type": "code",
   "execution_count": null,
   "metadata": {},
   "outputs": [],
   "source": [
    "def remover_acentos(txt):\n",
    "    return normalize('NFKD', txt).encode('ASCII', 'ignore').decode('ASCII')\n",
    "\n",
    "def is_number(s):\n",
    "    try:\n",
    "        complex(s) # for int, long, float and complex\n",
    "    except ValueError:\n",
    "        return False\n",
    "    return True\n",
    "\n",
    "def tokenizer(phrase):\n",
    "    phrase = phrase.lower()\n",
    "    for o, r in RM:\n",
    "        phrase = re.sub(o, r, phrase, flags=re.MULTILINE)\n",
    "    phrase = re.sub(r'[\"\\'@#%\\(\\)]', \" \", phrase)\n",
    "    phrase = NLP(re.sub(r'[-+=:]', \"\", phrase), disable=[\"parser\"])\n",
    "    clean_frase = []\n",
    "    for palavra in phrase:\n",
    "        if palavra.pos_ != \"PUNCT\":\n",
    "            word = palavra.text.strip()\n",
    "            if not is_number(word) and word not in STOPWORDS and len(word) > 1:\n",
    "                # clean_frase += [STEMMER.stem(remover_acentos(palavra.lemma_))]\n",
    "                clean_frase += [remover_acentos(palavra.lemma_)]\n",
    "    return clean_frase\n",
    "\n",
    "def _get_stopwords():\n",
    "    stpwords = stopwords.words('portuguese') + list(punctuation)\n",
    "    rms = [\"um\", \"uma\", \"não\", \"mais\", \"muito\"]\n",
    "    for rm in rms:\n",
    "        del stpwords[stpwords.index(rm)]\n",
    "    return stpwords\n",
    "\n",
    "NLP = spacy.load(\"pt\")\n",
    "# STEMMER = nltk.stem.RSLPStemmer()\n",
    "STEMMER = nltk.stem.SnowballStemmer('portuguese')\n",
    "STOPWORDS = _get_stopwords()\n",
    "RM = [\n",
    "    ('\\n', '. '), ('\"', ''), ('@', ''),\n",
    "    ('#', ''), ('RT', ''), (r'(http[s]*?:\\/\\/)+.*[\\r\\n]*', '')\n",
    "]\n",
    "\n",
    "colors = np.asarray([\n",
    "    (230, 25, 75), (60, 180, 75), (255, 225, 25), (0, 130, 200), (245, 130, 48), (145, 30, 180), (70, 240, 240),\n",
    "    (240, 50, 230), (210, 245, 60), (250, 190, 190), (0, 128, 128), (230, 190, 255), (170, 110, 40), (255, 250, 200),\n",
    "    (128, 0, 0), (170, 255, 195), (128, 128, 0), (255, 215, 180), (0, 0, 128), (128, 128, 128), (0, 0, 0),\n",
    "    (141, 204, 226), (212, 50, 147), (251, 226, 93), (16, 185, 176), (189, 182, 163), (244, 172, 18), (100, 28, 112),\n",
    "    (165, 124, 92), (183, 160, 211), (66, 47, 105), (240, 67, 7) # , (244, 188, 198)\n",
    "]).astype(np.float32)\n",
    "\n",
    "colors /= 255.0"
   ]
  },
  {
   "cell_type": "code",
   "execution_count": null,
   "metadata": {},
   "outputs": [],
   "source": [
    "df_data = pd.read_csv(\"gnews.csv\", sep=';', names=[\"title\", \"description\"])\n",
    "df_data.dropna(inplace=True)\n",
    "\n",
    "T = df_data.to_numpy()\n",
    "index = np.random.choice(T.shape[0], 10, replace=False)\n",
    "display(HTML(df_data.iloc[index].sort_values(by=[\"title\"]).to_html(index=False)))"
   ]
  },
  {
   "cell_type": "code",
   "execution_count": 30,
   "metadata": {},
   "outputs": [
    {
     "name": "stdout",
     "output_type": "stream",
     "text": [
      "Tokenization...\n",
      "Qtd documentos treino:  3095\n",
      "Finished...\n"
     ]
    }
   ],
   "source": [
    "def doc2token(doc):\n",
    "    return TaggedDocument(tokenizer(doc), [str(uuid.uuid4())])\n",
    "\n",
    "print(\"Tokenization...\")\n",
    "docs = set(df_data[\"title\"])\n",
    "with ProcessPoolExecutor(max_workers=cpu_count()) as exc:\n",
    "    documents_d2c = list(exc.map(doc2token, docs, chunksize=10))\n",
    "print(\"Qtd documentos treino: \", len(documents_d2c))\n",
    "print(\"Finished...\")"
   ]
  },
  {
   "cell_type": "code",
   "execution_count": 31,
   "metadata": {},
   "outputs": [
    {
     "data": {
      "text/plain": [
       "[TaggedDocument(words=['golpe', 'falso', 'criptomoeda', 'movimentar', 'mais', 'r$', 'milhao', 'brasil'], tags=['829a43f5-e577-4e91-8c0d-058dd44fcfa9']),\n",
       " TaggedDocument(words=['apos', 'ligar', 'urubu', 'flamadrid', 'rubronegros', 'veem', 'outro', 'lado', 'secador', 'final', 'libertador'], tags=['a7f6dd0c-3f17-4f3a-9ee0-a68b0ee3247f']),\n",
       " TaggedDocument(words=['michael', 'bloomberg', 'candidatar', 'presidencia', 'eua'], tags=['477faa14-1636-4939-9a27-75d8a2a0ff32']),\n",
       " TaggedDocument(words=['homem', 'atropelar', 'moto', 'agua', 'menino'], tags=['3d6c64bf-cea6-420e-b4b9-0d52cc8efa34']),\n",
       " TaggedDocument(words=['glamour', 'garcia', 'falir', 'fim', 'britney', 'emocionar', 'ver', 'noivo', 'querer'], tags=['72131cf7-f508-49a8-bdf7-4fb183d0b198']),\n",
       " TaggedDocument(words=['monstro', 'pantano', 'produtor', 'roteirista', 'falir', 'sobrar', 'plano', 'descartar', 'segundo', 'temporada'], tags=['b7642629-1ff0-4694-bf28-a88032988614']),\n",
       " TaggedDocument(words=['independent', 'spirit', 'awards', 'vidar', 'invisivel', 'indicar', 'oscar', 'cinema', 'independente'], tags=['1e76540c-4c45-4d9c-9ddc-100de4481361']),\n",
       " TaggedDocument(words=['apresentador', 'tv', 'ficar', 'ferir', 'acidentar', 'avenida', 'perimetral', 'bairro', 'mondubim'], tags=['9c83fd7a-c858-4e6e-8fa3-8ff7202a807f']),\n",
       " TaggedDocument(words=['entidade', 'denunciar', 'posicao', 'brasil', 'cupula', 'nairobi', 'violar', 'constituicao', 'ferir', 'direito', 'mulher', 'aumentar', 'riscar', 'morte', 'materno'], tags=['96845ae4-6dd7-4248-89ce-e0746d858c7d']),\n",
       " TaggedDocument(words=['dar', 'trabalhar', 'cigano'], tags=['14ef3e40-9bc6-443b-8809-2b4c7f9af939'])]"
      ]
     },
     "execution_count": 31,
     "metadata": {},
     "output_type": "execute_result"
    }
   ],
   "source": [
    "documents_d2c[:10]"
   ]
  },
  {
   "cell_type": "code",
   "execution_count": 32,
   "metadata": {},
   "outputs": [
    {
     "name": "stdout",
     "output_type": "stream",
     "text": [
      "Dimensions   : 1500\n",
      "Epochs       : 200\n",
      "Infer Epochs : 15000\n"
     ]
    }
   ],
   "source": [
    "dim = 1500\n",
    "epochs = 200\n",
    "M = 15000\n",
    "\n",
    "print(f\"Dimensions   : {dim}\")\n",
    "print(f\"Epochs       : {epochs}\")\n",
    "print(f\"Infer Epochs : {M}\")"
   ]
  },
  {
   "cell_type": "code",
   "execution_count": 21,
   "metadata": {},
   "outputs": [
    {
     "name": "stdout",
     "output_type": "stream",
     "text": [
      "Starting model...\n",
      "Building vocab...\n",
      "Training...\n",
      "Finish...\n"
     ]
    }
   ],
   "source": [
    "print(\"Starting model...\")\n",
    "common_kwargs = dict(\n",
    "    dm=0, vector_size=dim, epochs=epochs, workers=8, \n",
    "    window=10, min_count=2, alpha=1e-2, min_alpha=1e-4,\n",
    "    hs=1, negative=7, dbow_words=1, sample=0\n",
    ")\n",
    "d2v = Doc2Vec(**common_kwargs)\n",
    "print(\"Building vocab...\")\n",
    "d2v.build_vocab(documents_d2c)\n",
    "print(\"Training...\")\n",
    "d2v.train(\n",
    "    documents_d2c,\n",
    "    total_examples=d2v.corpus_count,\n",
    "    epochs=d2v.epochs\n",
    ")\n",
    "print(\"Finish...\")"
   ]
  },
  {
   "cell_type": "code",
   "execution_count": 22,
   "metadata": {},
   "outputs": [],
   "source": [
    "X = d2v.docvecs.vectors_docs"
   ]
  },
  {
   "cell_type": "code",
   "execution_count": 23,
   "metadata": {},
   "outputs": [
    {
     "name": "stdout",
     "output_type": "stream",
     "text": [
      "Running Elbow...\n",
      "Running Silhouette...\n",
      "Elbow      Cluster :  17\n",
      "Silhouette Cluster :  2\n"
     ]
    }
   ],
   "source": [
    "kmin = 2\n",
    "kmax = int(np.ceil((X.shape[0] * 0.1)))\n",
    "kmax = 50 if kmax > 50 else kmax\n",
    "\n",
    "print(\"Running Elbow...\")\n",
    "elbow_error = []\n",
    "elbow_amount_clusters = 2\n",
    "for _ in range(5):\n",
    "    elbow_instance = elbow(1-cosine_similarity(X), kmin, kmax)\n",
    "    elbow_instance.process()\n",
    "    amc = elbow_instance.get_amount()\n",
    "    if amc > elbow_amount_clusters:\n",
    "        elbow_amount_clusters = amc\n",
    "        elbow_error = elbow_instance.get_wce()\n",
    "\n",
    "print(\"Running Silhouette...\")\n",
    "silhouette_amount_clusters = 0\n",
    "search_instance = silhouette_ksearch(1-cosine_similarity(X), kmin, kmax, algorithm=silhouette_ksearch_type.KMEANS).process()\n",
    "silhouette_amount_clusters = search_instance.get_amount()\n",
    "scores = np.asarray(search_instance.get_scores())\n",
    "scores[np.isnan(scores)] = -1\n",
    "\n",
    "print(\"Elbow      Cluster : \", elbow_amount_clusters)\n",
    "print(\"Silhouette Cluster : \", silhouette_amount_clusters)\n",
    "qtd_cluster = elbow_amount_clusters if elbow_amount_clusters > silhouette_amount_clusters else silhouette_amount_clusters"
   ]
  },
  {
   "cell_type": "code",
   "execution_count": 24,
   "metadata": {},
   "outputs": [
    {
     "data": {
      "image/png": "[encoded data removed]",
      "text/plain": [
       "<Figure size 1008x360 with 2 Axes>"
      ]
     },
     "metadata": {
      "needs_background": "light"
     },
     "output_type": "display_data"
    }
   ],
   "source": [
    "plt.figure(figsize=(14, 5))\n",
    "ax = plt.subplot(1, 2, 1)\n",
    "plt.plot(elbow_error)\n",
    "plt.xticks(range(kmin, kmax, 2))\n",
    "ax.set_xlim(kmin, kmax)\n",
    "plt.xlabel(\"Qtd. Cluster\")\n",
    "plt.ylabel(\"Elbow (WCE)\")\n",
    "ax = plt.subplot(1, 2, 2)\n",
    "plt.plot(scores)\n",
    "plt.xticks(range(kmin, kmax, 2))\n",
    "ax.set_xlim(kmin, kmax)\n",
    "plt.xlabel(\"Qtd. Cluster\")\n",
    "plt.ylabel(\"Silhouette\")\n",
    "plt.tight_layout()\n",
    "plt.show()"
   ]
  },
  {
   "cell_type": "code",
   "execution_count": 25,
   "metadata": {},
   "outputs": [],
   "source": [
    "kclusterer = KMeansClusterer(\n",
    "    qtd_cluster,\n",
    "    distance=cosine_distance,\n",
    "    repeats=30,\n",
    "    rng=0,\n",
    "    avoid_empty_clusters=True\n",
    ")\n",
    "assigned_clusters = kclusterer.cluster(X, assign_clusters=True)\n",
    "assigned_clusters = np.array(assigned_clusters).ravel()\n",
    "centroids = kclusterer.means()"
   ]
  },
  {
   "cell_type": "code",
   "execution_count": 26,
   "metadata": {},
   "outputs": [
    {
     "name": "stdout",
     "output_type": "stream",
     "text": [
      "Frases por cluster:\n"
     ]
    },
    {
     "data": {
      "text/html": [
       "<table border=\"1\" class=\"dataframe\">\n",
       "  <thead>\n",
       "    <tr style=\"text-align: right;\">\n",
       "      <th>perguntas</th>\n",
       "      <th>cluster</th>\n",
       "    </tr>\n",
       "  </thead>\n",
       "  <tbody>\n",
       "    <tr>\n",
       "      <td>Black Friday já começou, mas só no calendário da Amazon</td>\n",
       "      <td>0</td>\n",
       "    </tr>\n",
       "    <tr>\n",
       "      <td>Lois Lane e Clark Kent se encontram em nova imagem de \"Crise nas Infinitas Terras\"</td>\n",
       "      <td>0</td>\n",
       "    </tr>\n",
       "    <tr>\n",
       "      <td>Brilhante: Michael Mann escreve ao realizador de Joker para elogiar o filme</td>\n",
       "      <td>1</td>\n",
       "    </tr>\n",
       "    <tr>\n",
       "      <td>5 frases de Miguel de Unamuno</td>\n",
       "      <td>1</td>\n",
       "    </tr>\n",
       "    <tr>\n",
       "      <td>Black Friday: prepare-se para o futuro com cursos da Udemy a partir de R$ 19,99</td>\n",
       "      <td>1</td>\n",
       "    </tr>\n",
       "    <tr>\n",
       "      <td>John le Carré, Jimmy Wales e Joanna Lumley dizem que não vão votar Corbyn por causa do antissemitismo</td>\n",
       "      <td>2</td>\n",
       "    </tr>\n",
       "    <tr>\n",
       "      <td>‘The Batman’: John Turturro é confirmado como icônico personagem</td>\n",
       "      <td>2</td>\n",
       "    </tr>\n",
       "    <tr>\n",
       "      <td>Uruguai escolhe no domingo entre austeridade e gastos sociais</td>\n",
       "      <td>2</td>\n",
       "    </tr>\n",
       "    <tr>\n",
       "      <td>Estudantes de Medicina escrevem à Ministra</td>\n",
       "      <td>3</td>\n",
       "    </tr>\n",
       "    <tr>\n",
       "      <td>Urologista realiza técnica inovadora no tratamento de doença da próstata</td>\n",
       "      <td>3</td>\n",
       "    </tr>\n",
       "    <tr>\n",
       "      <td>Durante posse como governador, presidente do Tribunal de Justiça elogia Witzel por querer fazer festa do réveillon</td>\n",
       "      <td>3</td>\n",
       "    </tr>\n",
       "    <tr>\n",
       "      <td>O dia em que Henry Sobel enfrentou a ditadura militar</td>\n",
       "      <td>3</td>\n",
       "    </tr>\n",
       "    <tr>\n",
       "      <td>Dois do Fla na disputa | Libertadores: melhor jogador ganhará anel com 128 diamantes</td>\n",
       "      <td>5</td>\n",
       "    </tr>\n",
       "    <tr>\n",
       "      <td>Professor acusado de agredir aluno surdo em escola de Penafiel</td>\n",
       "      <td>5</td>\n",
       "    </tr>\n",
       "    <tr>\n",
       "      <td>Netanyahu mantém tom desafiador apesar de pedidos por renúncia</td>\n",
       "      <td>5</td>\n",
       "    </tr>\n",
       "    <tr>\n",
       "      <td>12 segredos que não te contaram sobre consórcios</td>\n",
       "      <td>5</td>\n",
       "    </tr>\n",
       "    <tr>\n",
       "      <td>Quanta demanda! Apple deve fechar o ano vendendo 60 milhões de fones AirPods</td>\n",
       "      <td>6</td>\n",
       "    </tr>\n",
       "    <tr>\n",
       "      <td>Trabalhadora com gravidez de alto risco passa a ter isenção de carência no INSS</td>\n",
       "      <td>7</td>\n",
       "    </tr>\n",
       "    <tr>\n",
       "      <td>Emocionou internet | Ana Maria chora ao contar que cachorra Cristal está cega</td>\n",
       "      <td>8</td>\n",
       "    </tr>\n",
       "    <tr>\n",
       "      <td>Coelho fala sobre racismo e dificuldades de treinadores negros no Brasil</td>\n",
       "      <td>9</td>\n",
       "    </tr>\n",
       "    <tr>\n",
       "      <td>José Silvano. \"Há mais legitimidade para quem está no poder se ganhar à primeira volta\"</td>\n",
       "      <td>9</td>\n",
       "    </tr>\n",
       "    <tr>\n",
       "      <td>Farage olha além do 'Brexit' e promete \"revolução política\"</td>\n",
       "      <td>10</td>\n",
       "    </tr>\n",
       "    <tr>\n",
       "      <td>Gustavo Myasava lidera sexta-feira de ensaios da Stock Light em Goiânia</td>\n",
       "      <td>10</td>\n",
       "    </tr>\n",
       "    <tr>\n",
       "      <td>Carbon nomeia Ellen Kullman presidente e diretora executiva, Dr. Joseph DeSimone nomeado presidente executivo</td>\n",
       "      <td>12</td>\n",
       "    </tr>\n",
       "    <tr>\n",
       "      <td>35% do desmatamento da Amazônia é grilagem de terras, aponta Ipam</td>\n",
       "      <td>13</td>\n",
       "    </tr>\n",
       "    <tr>\n",
       "      <td>Joaquin Phoenix negocia retorno para sequência de ‘Coringa’</td>\n",
       "      <td>14</td>\n",
       "    </tr>\n",
       "    <tr>\n",
       "      <td>Primeira cirurgia robótica para remover nódulos da tiróide realizada com sucesso</td>\n",
       "      <td>15</td>\n",
       "    </tr>\n",
       "    <tr>\n",
       "      <td>Não é o pântano, é a planície</td>\n",
       "      <td>15</td>\n",
       "    </tr>\n",
       "    <tr>\n",
       "      <td>Tecnologia. Realidade aumentada está cada vez menos virtual em Portugal</td>\n",
       "      <td>15</td>\n",
       "    </tr>\n",
       "    <tr>\n",
       "      <td>Esquerda pode perder domínio político no Uruguai</td>\n",
       "      <td>16</td>\n",
       "    </tr>\n",
       "  </tbody>\n",
       "</table>"
      ],
      "text/plain": [
       "<IPython.core.display.HTML object>"
      ]
     },
     "metadata": {},
     "output_type": "display_data"
    },
    {
     "name": "stdout",
     "output_type": "stream",
     "text": [
      "--------------------\n",
      "Documentos por cluster:\n"
     ]
    },
    {
     "data": {
      "text/html": [
       "<table border=\"1\" class=\"dataframe\">\n",
       "  <tbody>\n",
       "    <tr>\n",
       "      <td>C0</td>\n",
       "      <td>121</td>\n",
       "    </tr>\n",
       "    <tr>\n",
       "      <td>C1</td>\n",
       "      <td>169</td>\n",
       "    </tr>\n",
       "    <tr>\n",
       "      <td>C2</td>\n",
       "      <td>144</td>\n",
       "    </tr>\n",
       "    <tr>\n",
       "      <td>C3</td>\n",
       "      <td>157</td>\n",
       "    </tr>\n",
       "    <tr>\n",
       "      <td>C4</td>\n",
       "      <td>129</td>\n",
       "    </tr>\n",
       "    <tr>\n",
       "      <td>C5</td>\n",
       "      <td>181</td>\n",
       "    </tr>\n",
       "    <tr>\n",
       "      <td>C6</td>\n",
       "      <td>157</td>\n",
       "    </tr>\n",
       "    <tr>\n",
       "      <td>C7</td>\n",
       "      <td>170</td>\n",
       "    </tr>\n",
       "    <tr>\n",
       "      <td>C8</td>\n",
       "      <td>142</td>\n",
       "    </tr>\n",
       "    <tr>\n",
       "      <td>C9</td>\n",
       "      <td>106</td>\n",
       "    </tr>\n",
       "    <tr>\n",
       "      <td>C10</td>\n",
       "      <td>138</td>\n",
       "    </tr>\n",
       "    <tr>\n",
       "      <td>C11</td>\n",
       "      <td>128</td>\n",
       "    </tr>\n",
       "    <tr>\n",
       "      <td>C12</td>\n",
       "      <td>168</td>\n",
       "    </tr>\n",
       "    <tr>\n",
       "      <td>C13</td>\n",
       "      <td>119</td>\n",
       "    </tr>\n",
       "    <tr>\n",
       "      <td>C14</td>\n",
       "      <td>132</td>\n",
       "    </tr>\n",
       "    <tr>\n",
       "      <td>C15</td>\n",
       "      <td>154</td>\n",
       "    </tr>\n",
       "    <tr>\n",
       "      <td>C16</td>\n",
       "      <td>105</td>\n",
       "    </tr>\n",
       "  </tbody>\n",
       "</table>"
      ],
      "text/plain": [
       "<IPython.core.display.HTML object>"
      ]
     },
     "execution_count": 26,
     "metadata": {},
     "output_type": "execute_result"
    }
   ],
   "source": [
    "docs = np.asarray(df_data[\"title\"])\n",
    "\n",
    "info = []\n",
    "frases = []\n",
    "for i in range(qtd_cluster):\n",
    "    idx = np.where(assigned_clusters == i)[0]\n",
    "    for doc in docs[idx]:\n",
    "        frases.append([doc, i])\n",
    "    info.append([i, len(docs[idx])])\n",
    "\n",
    "df = pd.DataFrame(frases, columns=[\"perguntas\", \"cluster\"])\n",
    "df_inf = pd.DataFrame(np.c_[[f\"C{i}\" for i in range(qtd_cluster)], np.asarray(info)[:, 1]])\n",
    "\n",
    "print(\"Frases por cluster:\")\n",
    "T = df.to_numpy()\n",
    "index = np.random.choice(T.shape[0], 30, replace=False)\n",
    "display(HTML(df.loc[index].sort_values(by=[\"cluster\"]).to_html(index=False)))\n",
    "\n",
    "print(\"-\" * 20)\n",
    "print(\"Documentos por cluster:\")\n",
    "HTML(df_inf.to_html(index=False, header=False))"
   ]
  },
  {
   "cell_type": "code",
   "execution_count": null,
   "metadata": {},
   "outputs": [],
   "source": []
  }
 ],
 "metadata": {
  "kernelspec": {
   "display_name": "Python 3",
   "language": "python",
   "name": "python3"
  },
  "language_info": {
   "codemirror_mode": {
    "name": "ipython",
    "version": 3
   },
   "file_extension": ".py",
   "mimetype": "text/x-python",
   "name": "python",
   "nbconvert_exporter": "python",
   "pygments_lexer": "ipython3",
   "version": "3.7.3"
  }
 },
 "nbformat": 4,
 "nbformat_minor": 4
}
