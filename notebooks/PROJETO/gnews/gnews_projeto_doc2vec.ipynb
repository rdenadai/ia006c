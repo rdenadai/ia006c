{
 "cells": [
  {
   "cell_type": "code",
   "execution_count": 81,
   "metadata": {},
   "outputs": [],
   "source": [
    "import re\n",
    "import copy\n",
    "import uuid\n",
    "from unicodedata import normalize\n",
    "from string import punctuation\n",
    "import warnings\n",
    "from multiprocessing import cpu_count\n",
    "from concurrent.futures import ProcessPoolExecutor\n",
    "from functools import partial\n",
    "import numpy as np\n",
    "import pandas as pd\n",
    "import matplotlib.pyplot as plt\n",
    "from mpl_toolkits.mplot3d import Axes3D\n",
    "import seaborn as sns\n",
    "import spacy\n",
    "import nltk\n",
    "from nltk.corpus import machado, mac_morpho, floresta\n",
    "from nltk.cluster import KMeansClusterer\n",
    "from nltk.corpus import stopwords\n",
    "from nltk.cluster.util import cosine_distance\n",
    "from sklearn import utils\n",
    "from sklearn.model_selection import train_test_split\n",
    "from sklearn.metrics import homogeneity_score, completeness_score, silhouette_score, davies_bouldin_score\n",
    "from sklearn.metrics.pairwise import cosine_similarity\n",
    "from sklearn.feature_extraction.text import TfidfVectorizer, CountVectorizer\n",
    "from sklearn.manifold import MDS, TSNE, LocallyLinearEmbedding\n",
    "from sklearn.decomposition import NMF\n",
    "from sklearn.cluster import DBSCAN, OPTICS, KMeans\n",
    "from pyclustering.cluster.xmeans import xmeans, kmeans\n",
    "from pyclustering.cluster.center_initializer import kmeans_plusplus_initializer\n",
    "from pyclustering.cluster.elbow import elbow\n",
    "from pyclustering.cluster.silhouette import silhouette_ksearch_type, silhouette_ksearch\n",
    "from gensim.models.doc2vec import Doc2Vec, TaggedDocument\n",
    "from IPython.display import HTML\n",
    "\n",
    "pd.set_option('display.max_columns', None)  \n",
    "pd.set_option('display.expand_frame_repr', False)\n",
    "pd.set_option('max_colwidth', -1)\n",
    "\n",
    "warnings.filterwarnings('ignore')\n",
    "np.random.seed(123456)\n",
    "\n",
    "%matplotlib inline"
   ]
  },
  {
   "cell_type": "code",
   "execution_count": 82,
   "metadata": {},
   "outputs": [],
   "source": [
    "def remover_acentos(txt):\n",
    "    return normalize('NFKD', txt).encode('ASCII', 'ignore').decode('ASCII')\n",
    "\n",
    "def is_number(s):\n",
    "    try:\n",
    "        complex(s) # for int, long, float and complex\n",
    "    except ValueError:\n",
    "        return False\n",
    "    return True\n",
    "\n",
    "def tokenizer(phrase):\n",
    "    phrase = phrase.lower()\n",
    "    for o, r in RM:\n",
    "        phrase = re.sub(o, r, phrase, flags=re.MULTILINE)\n",
    "    phrase = re.sub(r'[\"\\'@#%\\(\\)]', \" \", phrase)\n",
    "    phrase = NLP(re.sub(r'[-+=:]', \"\", phrase), disable=[\"parser\"])\n",
    "    clean_frase = []\n",
    "    for palavra in phrase:\n",
    "        if palavra.pos_ != \"PUNCT\":\n",
    "            word = palavra.text.strip()\n",
    "            if not is_number(word) and word not in STOPWORDS and len(word) > 1:\n",
    "                # clean_frase += [STEMMER.stem(remover_acentos(palavra.lemma_))]\n",
    "                clean_frase += [remover_acentos(palavra.lemma_)]\n",
    "    return clean_frase\n",
    "\n",
    "def _get_stopwords():\n",
    "    stpwords = stopwords.words('portuguese') + list(punctuation)\n",
    "    rms = [\"um\", \"uma\", \"não\", \"mais\", \"muito\"]\n",
    "    for rm in rms:\n",
    "        del stpwords[stpwords.index(rm)]\n",
    "    return stpwords\n",
    "\n",
    "NLP = spacy.load(\"pt\")\n",
    "# STEMMER = nltk.stem.RSLPStemmer()\n",
    "STEMMER = nltk.stem.SnowballStemmer('portuguese')\n",
    "STOPWORDS = _get_stopwords()\n",
    "RM = [\n",
    "    ('\\n', '. '), ('\"', ''), ('@', ''),\n",
    "    ('#', ''), ('RT', ''), (r'(http[s]*?:\\/\\/)+.*[\\r\\n]*', '')\n",
    "]\n",
    "\n",
    "colors = np.asarray([\n",
    "    (230, 25, 75), (60, 180, 75), (255, 225, 25), (0, 130, 200), (245, 130, 48), (145, 30, 180), (70, 240, 240),\n",
    "    (240, 50, 230), (210, 245, 60), (250, 190, 190), (0, 128, 128), (230, 190, 255), (170, 110, 40), (255, 250, 200),\n",
    "    (128, 0, 0), (170, 255, 195), (128, 128, 0), (255, 215, 180), (0, 0, 128), (128, 128, 128), (0, 0, 0),\n",
    "    (141, 204, 226), (212, 50, 147), (251, 226, 93), (16, 185, 176), (189, 182, 163), (244, 172, 18), (100, 28, 112),\n",
    "    (165, 124, 92), (183, 160, 211), (66, 47, 105), (240, 67, 7) # , (244, 188, 198)\n",
    "]).astype(np.float32)\n",
    "\n",
    "colors /= 255.0"
   ]
  },
  {
   "cell_type": "code",
   "execution_count": 83,
   "metadata": {},
   "outputs": [
    {
     "data": {
      "text/html": [
       "<table border=\"1\" class=\"dataframe\">\n",
       "  <thead>\n",
       "    <tr style=\"text-align: right;\">\n",
       "      <th>title</th>\n",
       "      <th>description</th>\n",
       "    </tr>\n",
       "  </thead>\n",
       "  <tbody>\n",
       "    <tr>\n",
       "      <td>#VazaJato: Moro não seguiu padrão da Lava Jato ao divulgar conversas de Lula</td>\n",
       "      <td>Mensagens obtidas pelo The Intercept Brasil e divulgadas neste domingo (24) pelo jornal Folha de S.Paulo mostram que o ministro da Justiça e então juiz federal, Sergio Moro, não seguiu o padrão da operação Lava Jato ao retirar o sigilo das investigações</td>\n",
       "    </tr>\n",
       "    <tr>\n",
       "      <td>BE pressiona Governo com redução do IVA na eletricidade. PSD também quer. Mas descarta nova coligação negativa</td>\n",
       "      <td>O Bloco de Esquerda vai mesmo insistir com a proposta de redução do IVA na eletricidade e mesmo que o governo não ceda, a questão pode vir a colocar-se no plano parlamentar. Tanto o Bloco de Esquerda como o PSD inscreveram no programa eleitoral para as legisl</td>\n",
       "    </tr>\n",
       "    <tr>\n",
       "      <td>Bitcoin em foco</td>\n",
       "      <td>O Bitcoin se encontra numa faixa de não compra ou venda. Convém esperar os próximos movimentos (Imagem: Pixabay)Há apenas algumas semanas, o preço do Bitcoin passou por um aumento que não víamos desde 2011  aumentou mais de 40% em um dia, chegando a US$ 10</td>\n",
       "    </tr>\n",
       "    <tr>\n",
       "      <td>Crime na cidade da Praia: Um homem morto a tiro e um ferido perto da capital cabo-verdiana</td>\n",
       "      <td>Um homem com cerca de 50 anos foi este sábado morto a tiro e outro ficou ferido, no município cabo-verdiano de São Domingos, a cerca de 10 quilómetros da cidade da Praia, segundo informação da Polícia Judiciária cabo-verdiana.Em comunicado, aquela força pol</td>\n",
       "    </tr>\n",
       "    <tr>\n",
       "      <td>Dica: Configurar as novas opções das permissões de localização do Android 10</td>\n",
       "      <td>O Android 10 trouxe várias novidades, mas ficou-se principalmente na segurança dos utilizadores. Para isso tem novas permissões e novas opções que podem ser decerto usadas pelos utilizadores.Uma delas não é de imediato visível, mas pode ser explorada e apro</td>\n",
       "    </tr>\n",
       "    <tr>\n",
       "      <td>Em súmula, árbitro diz que 'não observou injúria racial' contra goleiro do Flamengo</td>\n",
       "      <td>O árbitro Thiago Dias Paes Raimundo relatou na súmula não ter observado injúrias raciais contra o goleiro Hugo Souza, do Flamengo, já na parte final da decisão do Campeonato Carioca sub-20, na última quarta-feira, em São Januário. Nos acréscimos da partida, o</td>\n",
       "    </tr>\n",
       "    <tr>\n",
       "      <td>Evidência</td>\n",
       "      <td>Racismo estruturalO racismo existe e é inegável. Segundo o dr. Osvaldo Mariotto Cerezer, docente na Unemat, uma das formas de enfrentar este problema social é reconhecer que a história afro-brasileira é parte da história do Brasil. Ele acredita que, a parti</td>\n",
       "    </tr>\n",
       "    <tr>\n",
       "      <td>Fantasias originais da série de TV de Batman e Robin serão leiloadas</td>\n",
       "      <td>Um par de figurinos de Batman e Robin, descritos como as únicas fantasias completas usadas no programa de televisão dos anos 1060, está sendo leiloado em Los Angeles, e o proprietário está determinado em fazer com que seus heróis de quadrinhos de infância fiq</td>\n",
       "    </tr>\n",
       "    <tr>\n",
       "      <td>Os melhores lançamentos de filmes e séries para assistir online (15/11 a 22/11)</td>\n",
       "      <td>O fim de semana chegou e como estamos quase no fim do mês de novembro, é possível que a grana esteja curta. Sem poder esbanjar nos rolês, muita gente opta por ficar em casa para assistir a um bom filme ou série. Se essa é a sua realidade, calma, não se desesp</td>\n",
       "    </tr>\n",
       "    <tr>\n",
       "      <td>Sem-abrigo: Lisboa quer que todos tenham um teto em dois anos</td>\n",
       "      <td>A Câmara de Lisboa está a preparar propostas individuais para, nos próximos dois anos, conseguir realojar os 361 sem-abrigo que vivem nas ruas da cidade, disse o vereador dos Direitos Sociais, Manuel Grilo.O presidente da República pediu uma solução naciona</td>\n",
       "    </tr>\n",
       "  </tbody>\n",
       "</table>"
      ],
      "text/plain": [
       "<IPython.core.display.HTML object>"
      ]
     },
     "metadata": {},
     "output_type": "display_data"
    }
   ],
   "source": [
    "df_data = pd.read_csv(\"gnews.csv\", sep=';', names=[\"title\", \"description\"])\n",
    "df_data.dropna(inplace=True)\n",
    "\n",
    "T = df_data.to_numpy()\n",
    "index = np.random.choice(T.shape[0], 10, replace=False)\n",
    "display(HTML(df_data.iloc[index].sort_values(by=[\"title\"]).to_html(index=False)))"
   ]
  },
  {
   "cell_type": "code",
   "execution_count": 84,
   "metadata": {},
   "outputs": [
    {
     "name": "stdout",
     "output_type": "stream",
     "text": [
      "Tokenization...\n",
      "Qtd documentos treino:  3099\n",
      "Finished...\n"
     ]
    }
   ],
   "source": [
    "def doc2token(doc):\n",
    "    if isinstance(doc, list):\n",
    "        doc = \" \".join(doc)\n",
    "    return TaggedDocument(tokenizer(doc), [str(uuid.uuid4())])\n",
    "\n",
    "print(\"Tokenization...\")\n",
    "docs = set(df_data[\"description\"])\n",
    "with ProcessPoolExecutor(max_workers=cpu_count()) as exc:\n",
    "    documents_d2c = list(exc.map(doc2token, docs, chunksize=100))\n",
    "print(\"Qtd documentos treino: \", len(documents_d2c))\n",
    "print(\"Finished...\")"
   ]
  },
  {
   "cell_type": "code",
   "execution_count": 85,
   "metadata": {},
   "outputs": [
    {
     "data": {
      "text/plain": [
       "[TaggedDocument(words=['rir', 'terceiro', 'turma', 'superior', 'tribunal', 'justicar', 'stj', 'decidir', 'caber', 'plano', 'saudar', 'custear', 'despesa', 'diario', 'refeicao', 'acompanhante', 'paciente', 'idoso', 'internar', 'decisao', 'reformar', 'acordao', 'tribunal', 'just'], tags=['329a99ec-a094-410f-83da-f6c746bb9f8d']),\n",
       " TaggedDocument(words=['huawei', 'ir', 'revelar', 'oficialmente', 'tablet', 'matepad', 'pro', 'novembro', 'nao', 'impedir', 'apanhar', 'atraves', 'imagem', 'video', 'oficiais.o', 'matepad', 'pro', 'adoptar', 'um', 'design', 'identico', 'ipad', 'pro', 'apple', 'basicamente', 'consistir', 'um', 'ec'], tags=['6b885792-e8bf-440f-bd6e-e42aa4bb6fed']),\n",
       " TaggedDocument(words=['utilizacao', 'energia', 'atomico', 'fim', 'militar', 'hoje', 'mais', 'um', 'crime', 'nao', 'somente', 'contra', 'homem', 'dignidade', 'contra', 'todo', 'possibilidade', 'futurar', 'casar', 'comum', 'afirmar', 'papar', 'mensagem', 'pronunciar', 'memorial', 'paz', 'na'], tags=['8ef9ef47-59f4-4824-a758-abf9038ae1e1']),\n",
       " TaggedDocument(words=['instituto', 'moreira', 'salles', 'anunciar', 'segundafeira', 'exsecretario', 'cultura', 'estar', 'paulo', 'marcelo', 'araujo', 'assumir', 'postar', 'superintendenteexecutivo', 'instituicao', 'abril', 'irar', 'substituir', 'flavio', 'pinheiro', 'cargo'], tags=['39939e09-6f14-4597-a3bc-37a8bbec73b9']),\n",
       " TaggedDocument(words=['prazo', 'interessar', 'entregar', 'proposto', 'comprar', 'banco', 'caixa', 'geral', 'brasil', 'terminar', 'proximo', 'segundafeira', 'novembro', 'governar', 'decidir', 'prolongar', 'prazo', 'ter', 'consideracao', 'objetivo', 'manutencao', 'ambientar', 'competitivo'], tags=['c9b90e0c-9ed1-4e88-be3f-8c7395aa6b3b']),\n",
       " TaggedDocument(words=['parquinho', 'infantil', 'superquadra', 'sul', 'caro', 'novo', 'arear', 'branco', 'alambrar', 'receminstalado', 'estruturar', 'madeirar', 'plastico', 'resistente', 'sustentavel', 'fazer', 'partir', 'espacar', 'revitalizar', 'alegria', 'crianca', 'mudanca', 'acontecer', 'graca'], tags=['2d7d8976-a352-4134-99cb-bc33012724ec']),\n",
       " TaggedDocument(words=['cine', 'brasilia', 'receber', 'cerimonia', 'abertura', '52o', 'festival', 'brasilia', 'cinema', 'brasileiro', 'sextafeira', 'homenagem', 'personalidade', 'fazer', 'fazer', 'historia', 'cinema', 'nacional', 'evento', 'contar', 'apresentacao', 'filmar', 'traidor'], tags=['a6ca850b-250e-4073-8068-56e2199ccaa1']),\n",
       " TaggedDocument(words=['autoridade', 'chines', 'informar', 'sextafeira', 'iniciar', 'pesquisar', 'desenvolvimento', 'rede', 'fiar', 'sexto', 'geracao', 'apenas', 'algum', 'semana', 'tres', 'principal', 'operador', 'telecomunicacao', 'pais', 'ter', 'lancar', 'servico', 'comerciar'], tags=['826ed7d5-7abf-41fc-843c-423b1cfc9134']),\n",
       " TaggedDocument(words=['assunto', 'mais', 'comentadosmarcos', 'valerio', 'lulaa', 'cizania', 'jair', 'bolsonaromarcelo', 'serrar', 'converso', 'oleo', 'nordesteprotestos', 'america', 'sulmarcos', 'valerioa', 'verdade', 'sempre', 'vir', 'tonar', 'nao', 'existir', 'crim'], tags=['8e2b2491-c1bf-40a5-957c-7a6ee28590ca']),\n",
       " TaggedDocument(words=['hojeas2030publicado', 'tinto', 'chino', 'discurso', 'um', 'precioso', 'contributo', 'recordar', 'notavel', 'poder', 'oratorio', 'mark', 'twain', 'muito', 'custar', 'crer', 'youtubers', 'influencers', 'bloggers', 'coaches', 'outro', 'sumidade', 'qu'], tags=['f360d0d5-4e78-4f7e-82fd-06f8761f5659'])]"
      ]
     },
     "execution_count": 85,
     "metadata": {},
     "output_type": "execute_result"
    }
   ],
   "source": [
    "documents_d2c[:10]"
   ]
  },
  {
   "cell_type": "code",
   "execution_count": 87,
   "metadata": {},
   "outputs": [
    {
     "name": "stdout",
     "output_type": "stream",
     "text": [
      "building vocab...\n",
      "Adding machado...\n",
      "Adding mac_morpho...\n",
      "Adding floresta...\n",
      "finish...\n"
     ]
    }
   ],
   "source": [
    "print(\"building vocab...\")\n",
    "vocab = copy.deepcopy(documents_d2c)\n",
    "with ProcessPoolExecutor(max_workers=cpu_count()) as exc:\n",
    "    print(\"Adding machado...\")\n",
    "    vocab += list(exc.map(doc2token, utils.shuffle(machado.sents(), n_samples=100), chunksize=100))\n",
    "    print(\"Adding mac_morpho...\")\n",
    "    vocab += list(exc.map(doc2token, utils.shuffle(mac_morpho.sents(), n_samples=100), chunksize=100))\n",
    "    print(\"Adding floresta...\")\n",
    "    vocab += list(exc.map(doc2token, utils.shuffle(floresta.sents(), n_samples=100), chunksize=100))\n",
    "print(\"finish...\")"
   ]
  },
  {
   "cell_type": "code",
   "execution_count": 88,
   "metadata": {},
   "outputs": [
    {
     "data": {
      "text/plain": [
       "3399"
      ]
     },
     "execution_count": 88,
     "metadata": {},
     "output_type": "execute_result"
    }
   ],
   "source": [
    "len(vocab)"
   ]
  },
  {
   "cell_type": "code",
   "execution_count": 89,
   "metadata": {},
   "outputs": [
    {
     "name": "stdout",
     "output_type": "stream",
     "text": [
      "Dimensions   : 1500\n",
      "Epochs       : 20\n",
      "Infer Epochs : 15000\n"
     ]
    }
   ],
   "source": [
    "dim = 1500\n",
    "epochs = 20\n",
    "M = 15000\n",
    "\n",
    "print(f\"Dimensions   : {dim}\")\n",
    "print(f\"Epochs       : {epochs}\")\n",
    "print(f\"Infer Epochs : {M}\")"
   ]
  },
  {
   "cell_type": "code",
   "execution_count": 90,
   "metadata": {},
   "outputs": [
    {
     "name": "stdout",
     "output_type": "stream",
     "text": [
      "Starting model...\n",
      "Building vocab...\n",
      "Training...\n",
      "Finish...\n"
     ]
    }
   ],
   "source": [
    "print(\"Starting model...\")\n",
    "common_kwargs = dict(\n",
    "    dm=0, vector_size=dim, epochs=epochs, workers=cpu_count(), \n",
    "    window=10, min_count=2, alpha=1e-2, min_alpha=1e-4,\n",
    "    hs=1, negative=7, dbow_words=1, sample=0\n",
    ")\n",
    "d2v = Doc2Vec(**common_kwargs)\n",
    "print(\"Building vocab...\")\n",
    "d2v.build_vocab(vocab)\n",
    "print(\"Training...\")\n",
    "d2v.train(\n",
    "    documents_d2c,\n",
    "    # total_examples=d2v.corpus_count,\n",
    "    total_examples=len(documents_d2c),\n",
    "    epochs=d2v.epochs\n",
    ")\n",
    "print(\"Finish...\")"
   ]
  },
  {
   "cell_type": "code",
   "execution_count": 91,
   "metadata": {},
   "outputs": [
    {
     "name": "stdout",
     "output_type": "stream",
     "text": [
      "(3399, 1500)\n"
     ]
    }
   ],
   "source": [
    "X = d2v.docvecs.vectors_docs\n",
    "print(X.shape)"
   ]
  },
  {
   "cell_type": "code",
   "execution_count": 93,
   "metadata": {},
   "outputs": [
    {
     "name": "stdout",
     "output_type": "stream",
     "text": [
      "(3099, 1500)\n"
     ]
    }
   ],
   "source": [
    "def get_doc_vector(doc):\n",
    "    return d2v.docvecs[doc.tags[0]]\n",
    "\n",
    "X = []\n",
    "with ProcessPoolExecutor(max_workers=cpu_count()) as exc:\n",
    "    X = list(exc.map(get_doc_vector, documents_d2c, chunksize=100))\n",
    "X = np.asarray(X)\n",
    "print(X.shape)"
   ]
  },
  {
   "cell_type": "code",
   "execution_count": 94,
   "metadata": {},
   "outputs": [
    {
     "name": "stdout",
     "output_type": "stream",
     "text": [
      "(3099, 3099)\n"
     ]
    }
   ],
   "source": [
    "cosine_distance_matrix = 1 - cosine_similarity(X)\n",
    "print(cosine_distance_matrix.shape)"
   ]
  },
  {
   "cell_type": "code",
   "execution_count": null,
   "metadata": {},
   "outputs": [
    {
     "name": "stdout",
     "output_type": "stream",
     "text": [
      "Running Elbow...\n",
      "Running Silhouette...\n"
     ]
    }
   ],
   "source": [
    "kmin = 2\n",
    "kmax = int(np.ceil((X.shape[0] * 0.1)))\n",
    "kmax = 50 if kmax > 50 else kmax\n",
    "\n",
    "print(\"Running Elbow...\")\n",
    "elbow_error = []\n",
    "elbow_amount_clusters = 2\n",
    "for _ in range(5):\n",
    "    elbow_instance = elbow(cosine_distance_matrix, kmin, kmax)\n",
    "    elbow_instance.process()\n",
    "    amc = elbow_instance.get_amount()\n",
    "    if amc > elbow_amount_clusters:\n",
    "        elbow_amount_clusters = amc\n",
    "        elbow_error = elbow_instance.get_wce()\n",
    "\n",
    "print(\"Running Silhouette...\")\n",
    "silhouette_amount_clusters = 0\n",
    "silhouette_instance = silhouette_ksearch(cosine_distance_matrix, kmin, kmax, algorithm=silhouette_ksearch_type.KMEANS)\n",
    "silhouette_instance.process()\n",
    "silhouette_amount_clusters = silhouette_instance.get_amount()\n",
    "scores = np.asarray(silhouette_instance.get_scores())\n",
    "scores[np.isnan(scores)] = -1\n",
    "\n",
    "print(\"N. Elbow      Cluster : \", elbow_amount_clusters)\n",
    "print(\"N. Silhouette Cluster : \", silhouette_amount_clusters)\n",
    "qtd_cluster = elbow_amount_clusters if elbow_amount_clusters > silhouette_amount_clusters else silhouette_amount_clusters"
   ]
  },
  {
   "cell_type": "code",
   "execution_count": 69,
   "metadata": {},
   "outputs": [
    {
     "data": {
      "image/png": "[encoded data removed]",
      "text/plain": [
       "<Figure size 1008x360 with 2 Axes>"
      ]
     },
     "metadata": {
      "needs_background": "light"
     },
     "output_type": "display_data"
    }
   ],
   "source": [
    "plt.figure(figsize=(14, 5))\n",
    "ax = plt.subplot(1, 2, 1)\n",
    "plt.plot(elbow_error)\n",
    "plt.xticks(range(kmin, kmax, 2))\n",
    "ax.set_xlim(kmin, kmax)\n",
    "plt.xlabel(\"Qtd. Cluster\")\n",
    "plt.ylabel(\"Elbow (WCE)\")\n",
    "ax = plt.subplot(1, 2, 2)\n",
    "plt.plot(scores)\n",
    "plt.xticks(range(kmin, kmax, 2))\n",
    "ax.set_xlim(kmin, kmax)\n",
    "plt.xlabel(\"Qtd. Cluster\")\n",
    "plt.ylabel(\"Silhouette\")\n",
    "plt.tight_layout()\n",
    "plt.show()"
   ]
  },
  {
   "cell_type": "code",
   "execution_count": 13,
   "metadata": {},
   "outputs": [],
   "source": [
    "kclusterer = KMeansClusterer(\n",
    "    qtd_cluster,\n",
    "    distance=cosine_distance,\n",
    "    repeats=30,\n",
    "    rng=0,\n",
    "    avoid_empty_clusters=True\n",
    ")\n",
    "assigned_clusters = kclusterer.cluster(X, assign_clusters=True)\n",
    "assigned_clusters = np.array(assigned_clusters).ravel()\n",
    "centroids = kclusterer.means()"
   ]
  },
  {
   "cell_type": "code",
   "execution_count": 14,
   "metadata": {},
   "outputs": [
    {
     "name": "stdout",
     "output_type": "stream",
     "text": [
      "Documentos por cluster:\n"
     ]
    },
    {
     "data": {
      "text/html": [
       "<table border=\"1\" class=\"dataframe\">\n",
       "  <thead>\n",
       "    <tr style=\"text-align: right;\">\n",
       "      <th>title</th>\n",
       "      <th>cluster</th>\n",
       "    </tr>\n",
       "  </thead>\n",
       "  <tbody>\n",
       "    <tr>\n",
       "      <td>Russell: \"Kubica é incrivelmente experiente e fará falta na Williams\"</td>\n",
       "      <td>0</td>\n",
       "    </tr>\n",
       "    <tr>\n",
       "      <td>As piscinas naturais que podem ter chave para 'cura' do planeta com biodiversidade 'pré-histórica'</td>\n",
       "      <td>0</td>\n",
       "    </tr>\n",
       "    <tr>\n",
       "      <td>Ingram Micro anuncia uma nova e promissora parceria com a CUSTOM</td>\n",
       "      <td>0</td>\n",
       "    </tr>\n",
       "    <tr>\n",
       "      <td>Campinas imuniza 370 adultos de até 29 anos contra sarampo em 3 dias de campanha</td>\n",
       "      <td>0</td>\n",
       "    </tr>\n",
       "    <tr>\n",
       "      <td>Morreu o rabino Henry Sobel, ativista contra a ditadura militar brasileira</td>\n",
       "      <td>2</td>\n",
       "    </tr>\n",
       "    <tr>\n",
       "      <td>Defesa e Educação recebem maior parte dos R$ 14 bi liberados para gastos no orçamento</td>\n",
       "      <td>3</td>\n",
       "    </tr>\n",
       "    <tr>\n",
       "      <td>Jorge Jesus confiante em vencer prova \"que tem o mesmo prestígio da ‘Champions’\"</td>\n",
       "      <td>4</td>\n",
       "    </tr>\n",
       "    <tr>\n",
       "      <td>Candidato liga para melhor colocado em concurso e diz que teste foi cancelado</td>\n",
       "      <td>4</td>\n",
       "    </tr>\n",
       "    <tr>\n",
       "      <td>Criptomoedas são \"péssima ideia\" e interferem com a política monetária</td>\n",
       "      <td>4</td>\n",
       "    </tr>\n",
       "    <tr>\n",
       "      <td>Após semana conturbada, Santos joga para garantir vaga direta na Libertadores</td>\n",
       "      <td>4</td>\n",
       "    </tr>\n",
       "    <tr>\n",
       "      <td>Reforma da Previdência: Guia completo de aposentadoria da pessoa com deficiência</td>\n",
       "      <td>4</td>\n",
       "    </tr>\n",
       "    <tr>\n",
       "      <td>TudoCelular Ensina: visualize fotos do seu celular Android no Windows através do app Seu Telefone</td>\n",
       "      <td>4</td>\n",
       "    </tr>\n",
       "    <tr>\n",
       "      <td>Dos anos 1960 | Fantasias originais da série de TV de Batman e Robin serão leiloadas</td>\n",
       "      <td>5</td>\n",
       "    </tr>\n",
       "    <tr>\n",
       "      <td>A Nexen Tire celebra inauguração de um centro de P&amp;D na América do Norte</td>\n",
       "      <td>6</td>\n",
       "    </tr>\n",
       "    <tr>\n",
       "      <td>Semana da Ciência e Tecnologia oferece centenas de atividades para profissionais e entusiastas</td>\n",
       "      <td>8</td>\n",
       "    </tr>\n",
       "    <tr>\n",
       "      <td>Aumento salarial e não uma renovação. Lage esclarece novo contrato com Benfica</td>\n",
       "      <td>9</td>\n",
       "    </tr>\n",
       "    <tr>\n",
       "      <td>Pressionado, Facebook avalia mudanças em regras para anúncios políticos</td>\n",
       "      <td>10</td>\n",
       "    </tr>\n",
       "    <tr>\n",
       "      <td>Black Friday: prepare-se para o futuro com cursos da Udemy a partir de R$ 19,99</td>\n",
       "      <td>10</td>\n",
       "    </tr>\n",
       "    <tr>\n",
       "      <td>Arlindo Oliveira: \" É razoável atingir uma esperança de vida de 100 anos nas próximas décadas\"</td>\n",
       "      <td>10</td>\n",
       "    </tr>\n",
       "    <tr>\n",
       "      <td>iFood anuncia mudanças em seu corpo diretivo e tem novo CEO</td>\n",
       "      <td>10</td>\n",
       "    </tr>\n",
       "    <tr>\n",
       "      <td>Censura ao South Park, o último sobrevivente da geração sem mimimi</td>\n",
       "      <td>11</td>\n",
       "    </tr>\n",
       "    <tr>\n",
       "      <td>Punto Blackmotion: conheça a série especial de visual esportivo</td>\n",
       "      <td>11</td>\n",
       "    </tr>\n",
       "    <tr>\n",
       "      <td>Sair para caminhar: 8 razões para fazer isso</td>\n",
       "      <td>12</td>\n",
       "    </tr>\n",
       "    <tr>\n",
       "      <td>Globo promove ações para celebrar Dia da Consciência Negra</td>\n",
       "      <td>12</td>\n",
       "    </tr>\n",
       "    <tr>\n",
       "      <td>Copa Libertadores! Saiba onde assistir à final entre Flamengo x River Plate na TV e na internet</td>\n",
       "      <td>13</td>\n",
       "    </tr>\n",
       "    <tr>\n",
       "      <td>Marca cria ação para melhorar atendimento de trans em salões</td>\n",
       "      <td>14</td>\n",
       "    </tr>\n",
       "    <tr>\n",
       "      <td>Está com dívidas? | Febraban e BC anunciam mutirão de renegociação</td>\n",
       "      <td>14</td>\n",
       "    </tr>\n",
       "    <tr>\n",
       "      <td>Opinião: Extinction Rebellion não se importa com Holocausto</td>\n",
       "      <td>14</td>\n",
       "    </tr>\n",
       "    <tr>\n",
       "      <td>Rabino Henry Sobel morre em decorrência de câncer nos EUA</td>\n",
       "      <td>14</td>\n",
       "    </tr>\n",
       "    <tr>\n",
       "      <td>Pelo olhar do psi, por Arnaldo Chuster: \"Estresse é ansiedade crônica pelas tentativas de equilíbrio entre o prazer e a realidade\"</td>\n",
       "      <td>14</td>\n",
       "    </tr>\n",
       "  </tbody>\n",
       "</table>"
      ],
      "text/plain": [
       "<IPython.core.display.HTML object>"
      ]
     },
     "metadata": {},
     "output_type": "display_data"
    },
    {
     "name": "stdout",
     "output_type": "stream",
     "text": [
      "--------------------\n",
      "Documentos por cluster:\n"
     ]
    },
    {
     "data": {
      "text/html": [
       "<table border=\"1\" class=\"dataframe\">\n",
       "  <tbody>\n",
       "    <tr>\n",
       "      <td>C0</td>\n",
       "      <td>218</td>\n",
       "    </tr>\n",
       "    <tr>\n",
       "      <td>C1</td>\n",
       "      <td>103</td>\n",
       "    </tr>\n",
       "    <tr>\n",
       "      <td>C2</td>\n",
       "      <td>165</td>\n",
       "    </tr>\n",
       "    <tr>\n",
       "      <td>C3</td>\n",
       "      <td>199</td>\n",
       "    </tr>\n",
       "    <tr>\n",
       "      <td>C4</td>\n",
       "      <td>221</td>\n",
       "    </tr>\n",
       "    <tr>\n",
       "      <td>C5</td>\n",
       "      <td>286</td>\n",
       "    </tr>\n",
       "    <tr>\n",
       "      <td>C6</td>\n",
       "      <td>146</td>\n",
       "    </tr>\n",
       "    <tr>\n",
       "      <td>C7</td>\n",
       "      <td>173</td>\n",
       "    </tr>\n",
       "    <tr>\n",
       "      <td>C8</td>\n",
       "      <td>170</td>\n",
       "    </tr>\n",
       "    <tr>\n",
       "      <td>C9</td>\n",
       "      <td>130</td>\n",
       "    </tr>\n",
       "    <tr>\n",
       "      <td>C10</td>\n",
       "      <td>190</td>\n",
       "    </tr>\n",
       "    <tr>\n",
       "      <td>C11</td>\n",
       "      <td>238</td>\n",
       "    </tr>\n",
       "    <tr>\n",
       "      <td>C12</td>\n",
       "      <td>243</td>\n",
       "    </tr>\n",
       "    <tr>\n",
       "      <td>C13</td>\n",
       "      <td>178</td>\n",
       "    </tr>\n",
       "    <tr>\n",
       "      <td>C14</td>\n",
       "      <td>277</td>\n",
       "    </tr>\n",
       "    <tr>\n",
       "      <td>C15</td>\n",
       "      <td>162</td>\n",
       "    </tr>\n",
       "  </tbody>\n",
       "</table>"
      ],
      "text/plain": [
       "<IPython.core.display.HTML object>"
      ]
     },
     "execution_count": 14,
     "metadata": {},
     "output_type": "execute_result"
    }
   ],
   "source": [
    "docs = np.asarray(df_data[\"title\"])\n",
    "\n",
    "info = []\n",
    "frases = []\n",
    "for i in range(qtd_cluster):\n",
    "    idx = np.where(assigned_clusters == i)[0]\n",
    "    for doc in docs[idx]:\n",
    "        frases.append([doc, i])\n",
    "    info.append([i, len(docs[idx])])\n",
    "\n",
    "df = pd.DataFrame(frases, columns=[\"title\", \"cluster\"])\n",
    "df_inf = pd.DataFrame(np.c_[[f\"C{i}\" for i in range(qtd_cluster)], np.asarray(info)[:, 1]])\n",
    "\n",
    "print(\"Documentos por cluster:\")\n",
    "T = df.to_numpy()\n",
    "index = np.random.choice(T.shape[0], 30, replace=False)\n",
    "display(HTML(df.loc[index].sort_values(by=[\"cluster\"]).to_html(index=False)))\n",
    "\n",
    "print(\"-\" * 20)\n",
    "print(\"Documentos por cluster:\")\n",
    "HTML(df_inf.to_html(index=False, header=False))"
   ]
  },
  {
   "cell_type": "code",
   "execution_count": null,
   "metadata": {},
   "outputs": [],
   "source": []
  }
 ],
 "metadata": {
  "kernelspec": {
   "display_name": "Python 3",
   "language": "python",
   "name": "python3"
  },
  "language_info": {
   "codemirror_mode": {
    "name": "ipython",
    "version": 3
   },
   "file_extension": ".py",
   "mimetype": "text/x-python",
   "name": "python",
   "nbconvert_exporter": "python",
   "pygments_lexer": "ipython3",
   "version": "3.7.3"
  }
 },
 "nbformat": 4,
 "nbformat_minor": 4
}
