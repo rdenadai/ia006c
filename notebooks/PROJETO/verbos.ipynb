{
 "cells": [
  {
   "cell_type": "code",
   "execution_count": 1,
   "metadata": {},
   "outputs": [],
   "source": [
    "import pickle\n",
    "from multiprocessing import cpu_count\n",
    "from concurrent.futures import ProcessPoolExecutor, ThreadPoolExecutor\n",
    "import requests\n",
    "from bs4 import BeautifulSoup\n",
    "import numpy as np"
   ]
  },
  {
   "cell_type": "code",
   "execution_count": 35,
   "metadata": {},
   "outputs": [],
   "source": [
    "def download_link_verbos(url):\n",
    "    lnk_verbos = []\n",
    "    r = requests.get(url)\n",
    "    if r.status_code == 200:\n",
    "        soup = BeautifulSoup(r.content)\n",
    "        links = soup.find_all(\"a\")\n",
    "        for link in links:\n",
    "            href = link.get(\"href\").replace(\"/verbos-populares/\", \"\").replace(\"/verbos-regulares\", \"\").replace(\"/verbos-irregulares\", \"\")\n",
    "            if \"verbo\" in href:\n",
    "                lnk_verbos += [href]\n",
    "    return lnk_verbos\n",
    "\n",
    "\n",
    "lnks = []\n",
    "with ProcessPoolExecutor(max_workers=cpu_count()) as exc:\n",
    "    links = [\n",
    "        \"https://www.conjugacao.com.br/verbos-regulares/\",\n",
    "        \"https://www.conjugacao.com.br/verbos-irregulares/\"\n",
    "        \"https://www.conjugacao.com.br/verbos-populares/\"\n",
    "    ] + [f\"https://www.conjugacao.com.br/verbos-populares/{i}/\" for i in range(2, 51)]\n",
    "    link_verbos = list(exc.map(download_link_verbos, links, chunksize=10))\n",
    "    for lnk in link_verbos:\n",
    "        lnks += lnk"
   ]
  },
  {
   "cell_type": "code",
   "execution_count": 41,
   "metadata": {},
   "outputs": [
    {
     "name": "stdout",
     "output_type": "stream",
     "text": [
      "5050\n"
     ]
    }
   ],
   "source": [
    "lnks = sorted(lnks)\n",
    "print(len(lnks))"
   ]
  },
  {
   "cell_type": "code",
   "execution_count": 42,
   "metadata": {},
   "outputs": [],
   "source": [
    "def download_verbos(link):\n",
    "    verbo = link.replace(\"verbo-\", \"\").replace(\"/\", \"\")\n",
    "    conjugacoes = []\n",
    "    r = requests.get(f\"https://www.conjugacao.com.br/{link}\")\n",
    "    if r.status_code == 200:\n",
    "        soup = BeautifulSoup(r.content)\n",
    "        conjugacoes = [conjugacao.text for conjugacao in soup.find_all(\"span\", {\"class\": \"f\"})]\n",
    "    return {verbo: conjugacoes}\n",
    "\n",
    "with ProcessPoolExecutor(max_workers=cpu_count()) as exc:\n",
    "    verbos = list(exc.map(download_verbos, lnks, chunksize=100))\n",
    "    with open(\"verbs.pkc\", \"wb\") as outfile:\n",
    "        pickle.dump(verbos, outfile)"
   ]
  },
  {
   "cell_type": "code",
   "execution_count": 46,
   "metadata": {},
   "outputs": [],
   "source": [
    "with open(\"verbs.pkc\", \"rb\") as infile:\n",
    "    verbos = pickle.load(infile)"
   ]
  },
  {
   "cell_type": "code",
   "execution_count": 47,
   "metadata": {},
   "outputs": [],
   "source": [
    "verbos_a = {}\n",
    "for verb in verbos:\n",
    "    for v in list(verb.values())[0][:10]:\n",
    "        verbos_a[v] = list(verb.keys())[0]\n",
    "# verbs = {}\n",
    "# keys_verbs = []\n",
    "# for verb in verbos:\n",
    "#     keys_verbs += list(verb.values())[0]\n",
    "#     verbs.update(verb)\n",
    "# for k, v in verbs.items():\n",
    "#     print(k)\n",
    "# print(np.asarray(keys_verbs).ravel()[:350])\n",
    "# print(verbos[0].update(verbos[1]))"
   ]
  },
  {
   "cell_type": "code",
   "execution_count": 48,
   "metadata": {},
   "outputs": [
    {
     "data": {
      "text/plain": [
       "'ativar'"
      ]
     },
     "execution_count": 48,
     "metadata": {},
     "output_type": "execute_result"
    }
   ],
   "source": [
    "verbos_a[\"ativado\"]"
   ]
  },
  {
   "cell_type": "code",
   "execution_count": null,
   "metadata": {},
   "outputs": [],
   "source": []
  }
 ],
 "metadata": {
  "kernelspec": {
   "display_name": "Python 3",
   "language": "python",
   "name": "python3"
  },
  "language_info": {
   "codemirror_mode": {
    "name": "ipython",
    "version": 3
   },
   "file_extension": ".py",
   "mimetype": "text/x-python",
   "name": "python",
   "nbconvert_exporter": "python",
   "pygments_lexer": "ipython3",
   "version": "3.7.3"
  }
 },
 "nbformat": 4,
 "nbformat_minor": 4
}
